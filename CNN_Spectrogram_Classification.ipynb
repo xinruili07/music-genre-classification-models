{
  "nbformat": 4,
  "nbformat_minor": 0,
  "metadata": {
    "kernelspec": {
      "name": "python3",
      "display_name": "Python 3"
    },
    "language_info": {
      "codemirror_mode": {
        "name": "ipython",
        "version": 3
      },
      "file_extension": ".py",
      "mimetype": "text/x-python",
      "name": "python",
      "nbconvert_exporter": "python",
      "pygments_lexer": "ipython3",
      "version": "3.7.2"
    },
    "colab": {
      "name": "CNN_Spectrogram_Classification.ipynb",
      "provenance": [],
      "include_colab_link": true
    },
    "accelerator": "GPU"
  },
  "cells": [
    {
      "cell_type": "markdown",
      "metadata": {
        "id": "view-in-github",
        "colab_type": "text"
      },
      "source": [
        "<a href=\"https://colab.research.google.com/github/xinruili07/MusicGenreClassifier/blob/master/CNN_Spectrogram_Classification.ipynb\" target=\"_parent\"><img src=\"https://colab.research.google.com/assets/colab-badge.svg\" alt=\"Open In Colab\"/></a>"
      ]
    },
    {
      "cell_type": "code",
      "metadata": {
        "id": "xGplgJ0UWgfw",
        "colab_type": "code",
        "outputId": "8d91a7fe-0c83-4edf-edc9-d275f4f63c58",
        "colab": {
          "base_uri": "https://localhost:8080/",
          "height": 34
        }
      },
      "source": [
        "!mkdir genres\n",
        "!unzip -q \"/content/genres.zip\""
      ],
      "execution_count": 2,
      "outputs": [
        {
          "output_type": "stream",
          "text": [
            "mkdir: cannot create directory ‘genres’: File exists\n"
          ],
          "name": "stdout"
        }
      ]
    },
    {
      "cell_type": "code",
      "metadata": {
        "id": "UICIkcpX7cyY",
        "colab_type": "code",
        "colab": {
          "base_uri": "https://localhost:8080/",
          "height": 80
        },
        "outputId": "b7ac2ccc-03be-4c1f-a959-949de3bee343"
      },
      "source": [
        "### Importing Libraries\n",
        "\n",
        "import pandas as pd\n",
        "import numpy as np\n",
        "import librosa\n",
        "import matplotlib.pyplot as plt\n",
        "\n",
        "import os\n",
        "from PIL import Image\n",
        "from pathlib import Path\n",
        "import csv\n",
        "\n",
        "from sklearn.model_selection import train_test_split\n",
        "from sklearn.preprocessing import LabelEncoder, StandardScaler\n",
        "\n",
        "from sklearn.linear_model import LinearRegression\n",
        "from sklearn.svm import SVC\n",
        "from sklearn.ensemble import RandomForestClassifier\n",
        "\n",
        "import tensorflow as tf\n",
        "import keras"
      ],
      "execution_count": 3,
      "outputs": [
        {
          "output_type": "display_data",
          "data": {
            "text/html": [
              "<p style=\"color: red;\">\n",
              "The default version of TensorFlow in Colab will soon switch to TensorFlow 2.x.<br>\n",
              "We recommend you <a href=\"https://www.tensorflow.org/guide/migrate\" target=\"_blank\">upgrade</a> now \n",
              "or ensure your notebook will continue to use TensorFlow 1.x via the <code>%tensorflow_version 1.x</code> magic:\n",
              "<a href=\"https://colab.research.google.com/notebooks/tensorflow_version.ipynb\" target=\"_blank\">more info</a>.</p>\n"
            ],
            "text/plain": [
              "<IPython.core.display.HTML object>"
            ]
          },
          "metadata": {
            "tags": []
          }
        },
        {
          "output_type": "stream",
          "text": [
            "Using TensorFlow backend.\n"
          ],
          "name": "stderr"
        }
      ]
    },
    {
      "cell_type": "code",
      "metadata": {
        "scrolled": true,
        "id": "EJsM9K3C7cyd",
        "colab_type": "code",
        "outputId": "c6b7d8af-1e55-4f81-b4ff-2b968aec57c4",
        "colab": {
          "base_uri": "https://localhost:8080/",
          "height": 34
        }
      },
      "source": [
        "import librosa.display\n",
        "\n",
        "songname = f'./genres/blues/blues.00000.au'\n",
        "y, sr = librosa.load(songname, mono=True, duration=2, offset=0)\n",
        "ps = librosa.feature.melspectrogram(y=y, sr=sr, hop_length = 256, n_fft = 512, n_mels=128)\n",
        "ps = librosa.power_to_db(ps**2)\n",
        "ps.shape"
      ],
      "execution_count": 4,
      "outputs": [
        {
          "output_type": "execute_result",
          "data": {
            "text/plain": [
              "(128, 173)"
            ]
          },
          "metadata": {
            "tags": []
          },
          "execution_count": 4
        }
      ]
    },
    {
      "cell_type": "code",
      "metadata": {
        "id": "mxHZlIJw7cyf",
        "colab_type": "code",
        "colab": {}
      },
      "source": [
        "dataset = []\n",
        "genres = {'blues': 0, 'classical': 1, 'country': 2, 'disco': 3, 'hiphop': 4, \n",
        "        'jazz': 5, 'metal': 6, 'pop': 7, 'reggae': 8, 'rock': 9}\n",
        "\n",
        "for genre, genre_number in genres.items():\n",
        "    for filename in os.listdir(f'./genres/{genre}'):\n",
        "        songname = f'./genres/{genre}/{filename}'\n",
        "        for index in range(14):\n",
        "            y, sr = librosa.load(songname, mono=True, duration=2, offset=index*2)\n",
        "            ps = librosa.feature.melspectrogram(y=y, sr=sr, hop_length = 256, n_fft = 512, n_mels=64)\n",
        "            ps = librosa.power_to_db(ps**2)\n",
        "            dataset.append( (ps, genre_number) )               "
      ],
      "execution_count": 0,
      "outputs": []
    },
    {
      "cell_type": "code",
      "metadata": {
        "id": "6t7nvd0F7cyh",
        "colab_type": "code",
        "outputId": "d6fe23fe-3aa5-4fb6-ea59-8df41bc56bb7",
        "colab": {
          "base_uri": "https://localhost:8080/",
          "height": 34
        }
      },
      "source": [
        "print(len(dataset))\n",
        "\n",
        "import random\n",
        "\n",
        "random.shuffle(dataset)\n",
        "\n",
        "train = dataset[:10000]\n",
        "valid = dataset[10000:12000]\n",
        "test = dataset[12000:]\n",
        "\n",
        "X_train, Y_train = zip(*train)\n",
        "X_valid, Y_valid = zip(*valid)\n",
        "X_test, Y_test = zip(*test)\n",
        "\n",
        "# Reshape for CNN input\n",
        "X_train = np.array([x.reshape( (64, 173, 1) ) for x in X_train])\n",
        "X_valid = np.array([x.reshape( (64, 173, 1) ) for x in X_valid])\n",
        "X_test = np.array([x.reshape( (64, 173, 1) ) for x in X_test])\n",
        "\n",
        "# One-Hot encoding for classes\n",
        "Y_train = np.array(keras.utils.to_categorical(Y_train, 10))\n",
        "Y_valid = np.array(keras.utils.to_categorical(Y_valid, 10))\n",
        "Y_test = np.array(keras.utils.to_categorical(Y_test, 10))\n"
      ],
      "execution_count": 7,
      "outputs": [
        {
          "output_type": "stream",
          "text": [
            "14000\n"
          ],
          "name": "stdout"
        }
      ]
    },
    {
      "cell_type": "code",
      "metadata": {
        "id": "73ZT_KJq7cyk",
        "colab_type": "code",
        "outputId": "425190b0-85a2-46e1-eeb7-94447f4beddb",
        "colab": {
          "base_uri": "https://localhost:8080/",
          "height": 697
        }
      },
      "source": [
        "from keras.models import Sequential\n",
        "from keras.layers import Dense\n",
        "from keras.layers import Activation\n",
        "from keras.layers import Conv2D\n",
        "from keras.layers import MaxPooling2D\n",
        "from keras.layers import Dropout\n",
        "from keras.layers import Flatten\n",
        "from keras.layers import BatchNormalization\n",
        "from keras.layers import AveragePooling2D\n",
        "\n",
        "from keras import regularizers\n",
        "\n",
        "model = Sequential()\n",
        "input_shape=(64, 173, 1)\n",
        "\n",
        "model.add(Conv2D(24, (5, 5), strides=(1, 1), input_shape=input_shape))\n",
        "model.add(AveragePooling2D((2, 2), strides=(2,2)))\n",
        "model.add(Activation('relu'))\n",
        "\n",
        "model.add(Conv2D(48, (5, 5), padding=\"same\"))\n",
        "model.add(AveragePooling2D((2, 2), strides=(2,2)))\n",
        "model.add(Activation('relu'))\n",
        "\n",
        "model.add(Conv2D(48, (5, 5), padding=\"same\"))\n",
        "model.add(AveragePooling2D((2, 2), strides=(2,2)))\n",
        "model.add(Activation('relu'))\n",
        "\n",
        "model.add(Flatten())\n",
        "model.add(Dropout(rate=0.5))\n",
        "\n",
        "model.add(Dense(64))\n",
        "model.add(Activation('relu'))\n",
        "model.add(Dropout(rate=0.5))\n",
        "\n",
        "model.add(Dense(10))\n",
        "model.add(Activation('softmax'))\n",
        "model.summary()"
      ],
      "execution_count": 22,
      "outputs": [
        {
          "output_type": "stream",
          "text": [
            "Model: \"sequential_5\"\n",
            "_________________________________________________________________\n",
            "Layer (type)                 Output Shape              Param #   \n",
            "=================================================================\n",
            "conv2d_15 (Conv2D)           (None, 60, 169, 24)       624       \n",
            "_________________________________________________________________\n",
            "average_pooling2d_4 (Average (None, 30, 84, 24)        0         \n",
            "_________________________________________________________________\n",
            "activation_6 (Activation)    (None, 30, 84, 24)        0         \n",
            "_________________________________________________________________\n",
            "conv2d_16 (Conv2D)           (None, 30, 84, 48)        28848     \n",
            "_________________________________________________________________\n",
            "average_pooling2d_5 (Average (None, 15, 42, 48)        0         \n",
            "_________________________________________________________________\n",
            "activation_7 (Activation)    (None, 15, 42, 48)        0         \n",
            "_________________________________________________________________\n",
            "conv2d_17 (Conv2D)           (None, 15, 42, 48)        57648     \n",
            "_________________________________________________________________\n",
            "average_pooling2d_6 (Average (None, 7, 21, 48)         0         \n",
            "_________________________________________________________________\n",
            "activation_8 (Activation)    (None, 7, 21, 48)         0         \n",
            "_________________________________________________________________\n",
            "flatten_5 (Flatten)          (None, 7056)              0         \n",
            "_________________________________________________________________\n",
            "dropout_10 (Dropout)         (None, 7056)              0         \n",
            "_________________________________________________________________\n",
            "dense_8 (Dense)              (None, 64)                451648    \n",
            "_________________________________________________________________\n",
            "activation_9 (Activation)    (None, 64)                0         \n",
            "_________________________________________________________________\n",
            "dropout_11 (Dropout)         (None, 64)                0         \n",
            "_________________________________________________________________\n",
            "dense_9 (Dense)              (None, 10)                650       \n",
            "_________________________________________________________________\n",
            "activation_10 (Activation)   (None, 10)                0         \n",
            "=================================================================\n",
            "Total params: 539,418\n",
            "Trainable params: 539,418\n",
            "Non-trainable params: 0\n",
            "_________________________________________________________________\n"
          ],
          "name": "stdout"
        }
      ]
    },
    {
      "cell_type": "code",
      "metadata": {
        "id": "BOZbMpBH7cyn",
        "colab_type": "code",
        "outputId": "7289f15a-96e7-4b83-cbf4-a8731a0c0257",
        "colab": {
          "base_uri": "https://localhost:8080/",
          "height": 1000
        }
      },
      "source": [
        "from keras.callbacks import EarlyStopping\n",
        "\n",
        "model.compile(optimizer='adam', loss='categorical_crossentropy', metrics=['accuracy'])\n",
        "\n",
        "early_stopping = EarlyStopping(monitor='val_loss', patience=20, verbose=2)\n",
        "hist = model.fit(X_train, Y_train, epochs=90, batch_size=32, validation_data= (X_valid, Y_valid), callbacks=[early_stopping])"
      ],
      "execution_count": 23,
      "outputs": [
        {
          "output_type": "stream",
          "text": [
            "Train on 10000 samples, validate on 2000 samples\n",
            "Epoch 1/90\n",
            "10000/10000 [==============================] - 7s 746us/step - loss: 2.1673 - acc: 0.2179 - val_loss: 1.7939 - val_acc: 0.3540\n",
            "Epoch 2/90\n",
            "10000/10000 [==============================] - 5s 521us/step - loss: 1.7467 - acc: 0.3717 - val_loss: 1.4378 - val_acc: 0.4895\n",
            "Epoch 3/90\n",
            "10000/10000 [==============================] - 5s 522us/step - loss: 1.5552 - acc: 0.4568 - val_loss: 1.3099 - val_acc: 0.5470\n",
            "Epoch 4/90\n",
            "10000/10000 [==============================] - 5s 500us/step - loss: 1.4397 - acc: 0.5004 - val_loss: 1.2369 - val_acc: 0.5750\n",
            "Epoch 5/90\n",
            "10000/10000 [==============================] - 5s 523us/step - loss: 1.3741 - acc: 0.5250 - val_loss: 1.1751 - val_acc: 0.5855\n",
            "Epoch 6/90\n",
            "10000/10000 [==============================] - 5s 518us/step - loss: 1.2966 - acc: 0.5572 - val_loss: 1.2102 - val_acc: 0.5935\n",
            "Epoch 7/90\n",
            "10000/10000 [==============================] - 5s 516us/step - loss: 1.2292 - acc: 0.5716 - val_loss: 1.1286 - val_acc: 0.6175\n",
            "Epoch 8/90\n",
            "10000/10000 [==============================] - 5s 522us/step - loss: 1.1747 - acc: 0.6017 - val_loss: 1.0379 - val_acc: 0.6475\n",
            "Epoch 9/90\n",
            "10000/10000 [==============================] - 5s 505us/step - loss: 1.1185 - acc: 0.6126 - val_loss: 1.0131 - val_acc: 0.6565\n",
            "Epoch 10/90\n",
            "10000/10000 [==============================] - 5s 521us/step - loss: 1.0766 - acc: 0.6318 - val_loss: 0.9492 - val_acc: 0.6840\n",
            "Epoch 11/90\n",
            "10000/10000 [==============================] - 5s 520us/step - loss: 1.0219 - acc: 0.6439 - val_loss: 1.0049 - val_acc: 0.6660\n",
            "Epoch 12/90\n",
            "10000/10000 [==============================] - 5s 483us/step - loss: 1.0064 - acc: 0.6563 - val_loss: 0.9971 - val_acc: 0.6545\n",
            "Epoch 13/90\n",
            "10000/10000 [==============================] - 4s 435us/step - loss: 0.9470 - acc: 0.6782 - val_loss: 1.1150 - val_acc: 0.6385\n",
            "Epoch 14/90\n",
            "10000/10000 [==============================] - 4s 428us/step - loss: 0.9100 - acc: 0.6925 - val_loss: 0.9310 - val_acc: 0.6930\n",
            "Epoch 15/90\n",
            "10000/10000 [==============================] - 4s 430us/step - loss: 0.8806 - acc: 0.6984 - val_loss: 0.8898 - val_acc: 0.7090\n",
            "Epoch 16/90\n",
            "10000/10000 [==============================] - 4s 424us/step - loss: 0.8459 - acc: 0.7099 - val_loss: 0.9440 - val_acc: 0.6930\n",
            "Epoch 17/90\n",
            "10000/10000 [==============================] - 4s 426us/step - loss: 0.8132 - acc: 0.7225 - val_loss: 0.9017 - val_acc: 0.7085\n",
            "Epoch 18/90\n",
            "10000/10000 [==============================] - 4s 426us/step - loss: 0.7809 - acc: 0.7308 - val_loss: 0.8971 - val_acc: 0.7220\n",
            "Epoch 19/90\n",
            "10000/10000 [==============================] - 4s 423us/step - loss: 0.7506 - acc: 0.7402 - val_loss: 0.8938 - val_acc: 0.7225\n",
            "Epoch 20/90\n",
            "10000/10000 [==============================] - 4s 425us/step - loss: 0.7595 - acc: 0.7392 - val_loss: 0.8961 - val_acc: 0.7230\n",
            "Epoch 21/90\n",
            "10000/10000 [==============================] - 4s 424us/step - loss: 0.7395 - acc: 0.7477 - val_loss: 1.0438 - val_acc: 0.6830\n",
            "Epoch 22/90\n",
            "10000/10000 [==============================] - 4s 428us/step - loss: 0.7216 - acc: 0.7507 - val_loss: 0.9173 - val_acc: 0.7190\n",
            "Epoch 23/90\n",
            "10000/10000 [==============================] - 4s 428us/step - loss: 0.6880 - acc: 0.7631 - val_loss: 0.8720 - val_acc: 0.7310\n",
            "Epoch 24/90\n",
            "10000/10000 [==============================] - 4s 427us/step - loss: 0.6608 - acc: 0.7737 - val_loss: 0.9049 - val_acc: 0.7280\n",
            "Epoch 25/90\n",
            "10000/10000 [==============================] - 4s 431us/step - loss: 0.6721 - acc: 0.7694 - val_loss: 0.9534 - val_acc: 0.7300\n",
            "Epoch 26/90\n",
            "10000/10000 [==============================] - 4s 431us/step - loss: 0.6336 - acc: 0.7843 - val_loss: 0.8828 - val_acc: 0.7435\n",
            "Epoch 27/90\n",
            "10000/10000 [==============================] - 4s 434us/step - loss: 0.6354 - acc: 0.7831 - val_loss: 0.8446 - val_acc: 0.7335\n",
            "Epoch 28/90\n",
            "10000/10000 [==============================] - 4s 435us/step - loss: 0.5880 - acc: 0.7962 - val_loss: 0.8746 - val_acc: 0.7385\n",
            "Epoch 29/90\n",
            "10000/10000 [==============================] - 4s 426us/step - loss: 0.5814 - acc: 0.7987 - val_loss: 0.9226 - val_acc: 0.7410\n",
            "Epoch 30/90\n",
            "10000/10000 [==============================] - 4s 439us/step - loss: 0.5831 - acc: 0.7970 - val_loss: 0.8595 - val_acc: 0.7440\n",
            "Epoch 31/90\n",
            "10000/10000 [==============================] - 4s 435us/step - loss: 0.5526 - acc: 0.8039 - val_loss: 0.9295 - val_acc: 0.7255\n",
            "Epoch 32/90\n",
            "10000/10000 [==============================] - 4s 432us/step - loss: 0.5848 - acc: 0.7964 - val_loss: 0.8810 - val_acc: 0.7255\n",
            "Epoch 33/90\n",
            "10000/10000 [==============================] - 4s 434us/step - loss: 0.5503 - acc: 0.8111 - val_loss: 0.8924 - val_acc: 0.7495\n",
            "Epoch 34/90\n",
            "10000/10000 [==============================] - 4s 432us/step - loss: 0.5635 - acc: 0.8052 - val_loss: 0.9144 - val_acc: 0.7295\n",
            "Epoch 35/90\n",
            "10000/10000 [==============================] - 4s 432us/step - loss: 0.5465 - acc: 0.8148 - val_loss: 0.9364 - val_acc: 0.7290\n",
            "Epoch 36/90\n",
            "10000/10000 [==============================] - 4s 433us/step - loss: 0.5285 - acc: 0.8214 - val_loss: 0.9719 - val_acc: 0.7300\n",
            "Epoch 37/90\n",
            "10000/10000 [==============================] - 4s 432us/step - loss: 0.5187 - acc: 0.8244 - val_loss: 0.8930 - val_acc: 0.7430\n",
            "Epoch 38/90\n",
            "10000/10000 [==============================] - 4s 436us/step - loss: 0.5150 - acc: 0.8175 - val_loss: 0.9179 - val_acc: 0.7390\n",
            "Epoch 39/90\n",
            "10000/10000 [==============================] - 4s 433us/step - loss: 0.5160 - acc: 0.8264 - val_loss: 0.9353 - val_acc: 0.7350\n",
            "Epoch 40/90\n",
            "10000/10000 [==============================] - 4s 431us/step - loss: 0.4968 - acc: 0.8313 - val_loss: 0.9758 - val_acc: 0.7380\n",
            "Epoch 41/90\n",
            "10000/10000 [==============================] - 4s 428us/step - loss: 0.4903 - acc: 0.8305 - val_loss: 0.8433 - val_acc: 0.7475\n",
            "Epoch 42/90\n",
            "10000/10000 [==============================] - 5s 457us/step - loss: 0.4900 - acc: 0.8325 - val_loss: 1.0088 - val_acc: 0.7405\n",
            "Epoch 43/90\n",
            "10000/10000 [==============================] - 5s 468us/step - loss: 0.4733 - acc: 0.8337 - val_loss: 1.0120 - val_acc: 0.7405\n",
            "Epoch 44/90\n",
            "10000/10000 [==============================] - 4s 437us/step - loss: 0.4684 - acc: 0.8330 - val_loss: 0.9909 - val_acc: 0.7340\n",
            "Epoch 45/90\n",
            "10000/10000 [==============================] - 4s 431us/step - loss: 0.4844 - acc: 0.8360 - val_loss: 0.9699 - val_acc: 0.7285\n",
            "Epoch 46/90\n",
            "10000/10000 [==============================] - 4s 428us/step - loss: 0.4581 - acc: 0.8508 - val_loss: 0.8947 - val_acc: 0.7425\n",
            "Epoch 47/90\n",
            "10000/10000 [==============================] - 4s 430us/step - loss: 0.4394 - acc: 0.8482 - val_loss: 0.9171 - val_acc: 0.7525\n",
            "Epoch 48/90\n",
            "10000/10000 [==============================] - 4s 432us/step - loss: 0.4790 - acc: 0.8397 - val_loss: 0.9663 - val_acc: 0.7275\n",
            "Epoch 49/90\n",
            "10000/10000 [==============================] - 4s 430us/step - loss: 0.4570 - acc: 0.8452 - val_loss: 0.9551 - val_acc: 0.7540\n",
            "Epoch 50/90\n",
            "10000/10000 [==============================] - 4s 429us/step - loss: 0.4398 - acc: 0.8540 - val_loss: 0.9561 - val_acc: 0.7510\n",
            "Epoch 51/90\n",
            "10000/10000 [==============================] - 4s 432us/step - loss: 0.4159 - acc: 0.8598 - val_loss: 0.9509 - val_acc: 0.7450\n",
            "Epoch 52/90\n",
            "10000/10000 [==============================] - 4s 428us/step - loss: 0.4349 - acc: 0.8585 - val_loss: 0.9518 - val_acc: 0.7485\n",
            "Epoch 53/90\n",
            "10000/10000 [==============================] - 4s 424us/step - loss: 0.4176 - acc: 0.8576 - val_loss: 0.9724 - val_acc: 0.7450\n",
            "Epoch 54/90\n",
            "10000/10000 [==============================] - 4s 423us/step - loss: 0.4324 - acc: 0.8522 - val_loss: 0.9815 - val_acc: 0.7395\n",
            "Epoch 55/90\n",
            "10000/10000 [==============================] - 4s 430us/step - loss: 0.4128 - acc: 0.8580 - val_loss: 0.9694 - val_acc: 0.7370\n",
            "Epoch 56/90\n",
            "10000/10000 [==============================] - 4s 435us/step - loss: 0.4018 - acc: 0.8634 - val_loss: 0.9966 - val_acc: 0.7475\n",
            "Epoch 57/90\n",
            "10000/10000 [==============================] - 4s 427us/step - loss: 0.3984 - acc: 0.8656 - val_loss: 0.9813 - val_acc: 0.7500\n",
            "Epoch 58/90\n",
            "10000/10000 [==============================] - 4s 423us/step - loss: 0.3990 - acc: 0.8650 - val_loss: 0.9490 - val_acc: 0.7480\n",
            "Epoch 59/90\n",
            "10000/10000 [==============================] - 4s 426us/step - loss: 0.4028 - acc: 0.8613 - val_loss: 1.1372 - val_acc: 0.7280\n",
            "Epoch 60/90\n",
            "10000/10000 [==============================] - 4s 427us/step - loss: 0.4000 - acc: 0.8621 - val_loss: 1.0254 - val_acc: 0.7345\n",
            "Epoch 61/90\n",
            "10000/10000 [==============================] - 4s 421us/step - loss: 0.3873 - acc: 0.8702 - val_loss: 0.9925 - val_acc: 0.7520\n",
            "Epoch 00061: early stopping\n"
          ],
          "name": "stdout"
        }
      ]
    },
    {
      "cell_type": "code",
      "metadata": {
        "id": "IFuzjYQD7cyp",
        "colab_type": "code",
        "outputId": "a996e236-1cb9-454a-fbd9-d06d996ed817",
        "colab": {
          "base_uri": "https://localhost:8080/",
          "height": 788
        }
      },
      "source": [
        "plt.figure(figsize=(12,8))\n",
        "plt.plot(hist.history['acc'])\n",
        "plt.plot(hist.history['val_acc'])\n",
        "plt.legend(['acc','val_acc'])\n",
        "plt.show()\n",
        "\n",
        "plt.plot(hist.history['loss'])\n",
        "plt.plot(hist.history['val_loss'])\n",
        "plt.legend(['loss','val_loss'])\n",
        "plt.show()\n",
        "score = model.evaluate(X_test, Y_test)\n",
        "print('Test loss:', score[0])\n",
        "print('Test accuracy:', score[1])"
      ],
      "execution_count": 24,
      "outputs": [
        {
          "output_type": "display_data",
          "data": {
            "image/png": "[encoded data removed]",
            "text/plain": [
              "<Figure size 864x576 with 1 Axes>"
            ]
          },
          "metadata": {
            "tags": []
          }
        },
        {
          "output_type": "display_data",
          "data": {
            "image/png": "[encoded data removed]",
            "text/plain": [
              "<Figure size 432x288 with 1 Axes>"
            ]
          },
          "metadata": {
            "tags": []
          }
        },
        {
          "output_type": "stream",
          "text": [
            "2000/2000 [==============================] - 0s 173us/step\n",
            "Test loss: 0.8917159118652344\n",
            "Test accuracy: 0.7685\n"
          ],
          "name": "stdout"
        }
      ]
    },
    {
      "cell_type": "code",
      "metadata": {
        "id": "FFd6rEIOQu1i",
        "colab_type": "code",
        "colab": {
          "base_uri": "https://localhost:8080/",
          "height": 751
        },
        "outputId": "d99b5813-af6d-4f66-e66c-aaecd4940327"
      },
      "source": [
        "from sklearn.metrics import classification_report, confusion_matrix\n",
        "import seaborn as sn\n",
        "\n",
        "y_pred = model.predict_classes(X_test)\n",
        "#Y_test = np.argmax(Y_test, axis=1)\n",
        "\n",
        "con_mat = confusion_matrix(Y_test, y_pred)\n",
        "\n",
        "plt.figure(figsize = (10,7))\n",
        "ax = sn.heatmap(con_mat, annot=True, fmt=\"d\", xticklabels=genres, yticklabels=genres)\n",
        "bottom, top = ax.get_ylim()\n",
        "ax.set_ylim(bottom + 0.5, top - 0.5)\n",
        "\n",
        "plt.show()\n",
        "print('\\n')\n",
        "print(classification_report(Y_test, y_pred))"
      ],
      "execution_count": 58,
      "outputs": [
        {
          "output_type": "display_data",
          "data": {
            "image/png": "[encoded data removed]",
            "text/plain": [
              "<Figure size 720x504 with 2 Axes>"
            ]
          },
          "metadata": {
            "tags": []
          }
        },
        {
          "output_type": "stream",
          "text": [
            "\n",
            "\n",
            "              precision    recall  f1-score   support\n",
            "\n",
            "           0       0.82      0.62      0.71       189\n",
            "           1       0.90      0.90      0.90       209\n",
            "           2       0.64      0.74      0.69       205\n",
            "           3       0.77      0.74      0.75       198\n",
            "           4       0.89      0.76      0.82       204\n",
            "           5       0.76      0.83      0.79       189\n",
            "           6       0.82      0.86      0.84       188\n",
            "           7       0.83      0.77      0.80       214\n",
            "           8       0.81      0.82      0.82       210\n",
            "           9       0.53      0.64      0.58       194\n",
            "\n",
            "    accuracy                           0.77      2000\n",
            "   macro avg       0.78      0.77      0.77      2000\n",
            "weighted avg       0.78      0.77      0.77      2000\n",
            "\n"
          ],
          "name": "stdout"
        }
      ]
    }
  ]
}