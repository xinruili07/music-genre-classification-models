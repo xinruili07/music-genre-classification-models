{
 "cells": [
  {
   "cell_type": "code",
   "execution_count": 1,
   "metadata": {},
   "outputs": [
    {
     "name": "stderr",
     "output_type": "stream",
     "text": [
      "/Library/Frameworks/Python.framework/Versions/3.7/lib/python3.7/site-packages/tensorflow/python/framework/dtypes.py:516: FutureWarning: Passing (type, 1) or '1type' as a synonym of type is deprecated; in a future version of numpy, it will be understood as (type, (1,)) / '(1,)type'.\n",
      "  _np_qint8 = np.dtype([(\"qint8\", np.int8, 1)])\n",
      "/Library/Frameworks/Python.framework/Versions/3.7/lib/python3.7/site-packages/tensorflow/python/framework/dtypes.py:517: FutureWarning: Passing (type, 1) or '1type' as a synonym of type is deprecated; in a future version of numpy, it will be understood as (type, (1,)) / '(1,)type'.\n",
      "  _np_quint8 = np.dtype([(\"quint8\", np.uint8, 1)])\n",
      "/Library/Frameworks/Python.framework/Versions/3.7/lib/python3.7/site-packages/tensorflow/python/framework/dtypes.py:518: FutureWarning: Passing (type, 1) or '1type' as a synonym of type is deprecated; in a future version of numpy, it will be understood as (type, (1,)) / '(1,)type'.\n",
      "  _np_qint16 = np.dtype([(\"qint16\", np.int16, 1)])\n",
      "/Library/Frameworks/Python.framework/Versions/3.7/lib/python3.7/site-packages/tensorflow/python/framework/dtypes.py:519: FutureWarning: Passing (type, 1) or '1type' as a synonym of type is deprecated; in a future version of numpy, it will be understood as (type, (1,)) / '(1,)type'.\n",
      "  _np_quint16 = np.dtype([(\"quint16\", np.uint16, 1)])\n",
      "/Library/Frameworks/Python.framework/Versions/3.7/lib/python3.7/site-packages/tensorflow/python/framework/dtypes.py:520: FutureWarning: Passing (type, 1) or '1type' as a synonym of type is deprecated; in a future version of numpy, it will be understood as (type, (1,)) / '(1,)type'.\n",
      "  _np_qint32 = np.dtype([(\"qint32\", np.int32, 1)])\n",
      "/Library/Frameworks/Python.framework/Versions/3.7/lib/python3.7/site-packages/tensorflow/python/framework/dtypes.py:525: FutureWarning: Passing (type, 1) or '1type' as a synonym of type is deprecated; in a future version of numpy, it will be understood as (type, (1,)) / '(1,)type'.\n",
      "  np_resource = np.dtype([(\"resource\", np.ubyte, 1)])\n",
      "/Library/Frameworks/Python.framework/Versions/3.7/lib/python3.7/site-packages/tensorboard/compat/tensorflow_stub/dtypes.py:541: FutureWarning: Passing (type, 1) or '1type' as a synonym of type is deprecated; in a future version of numpy, it will be understood as (type, (1,)) / '(1,)type'.\n",
      "  _np_qint8 = np.dtype([(\"qint8\", np.int8, 1)])\n",
      "/Library/Frameworks/Python.framework/Versions/3.7/lib/python3.7/site-packages/tensorboard/compat/tensorflow_stub/dtypes.py:542: FutureWarning: Passing (type, 1) or '1type' as a synonym of type is deprecated; in a future version of numpy, it will be understood as (type, (1,)) / '(1,)type'.\n",
      "  _np_quint8 = np.dtype([(\"quint8\", np.uint8, 1)])\n",
      "/Library/Frameworks/Python.framework/Versions/3.7/lib/python3.7/site-packages/tensorboard/compat/tensorflow_stub/dtypes.py:543: FutureWarning: Passing (type, 1) or '1type' as a synonym of type is deprecated; in a future version of numpy, it will be understood as (type, (1,)) / '(1,)type'.\n",
      "  _np_qint16 = np.dtype([(\"qint16\", np.int16, 1)])\n",
      "/Library/Frameworks/Python.framework/Versions/3.7/lib/python3.7/site-packages/tensorboard/compat/tensorflow_stub/dtypes.py:544: FutureWarning: Passing (type, 1) or '1type' as a synonym of type is deprecated; in a future version of numpy, it will be understood as (type, (1,)) / '(1,)type'.\n",
      "  _np_quint16 = np.dtype([(\"quint16\", np.uint16, 1)])\n",
      "/Library/Frameworks/Python.framework/Versions/3.7/lib/python3.7/site-packages/tensorboard/compat/tensorflow_stub/dtypes.py:545: FutureWarning: Passing (type, 1) or '1type' as a synonym of type is deprecated; in a future version of numpy, it will be understood as (type, (1,)) / '(1,)type'.\n",
      "  _np_qint32 = np.dtype([(\"qint32\", np.int32, 1)])\n",
      "/Library/Frameworks/Python.framework/Versions/3.7/lib/python3.7/site-packages/tensorboard/compat/tensorflow_stub/dtypes.py:550: FutureWarning: Passing (type, 1) or '1type' as a synonym of type is deprecated; in a future version of numpy, it will be understood as (type, (1,)) / '(1,)type'.\n",
      "  np_resource = np.dtype([(\"resource\", np.ubyte, 1)])\n",
      "Using TensorFlow backend.\n"
     ]
    }
   ],
   "source": [
    "### Importing Libraries\n",
    "\n",
    "import pandas as pd\n",
    "import numpy as np\n",
    "import librosa\n",
    "import matplotlib.pyplot as plt\n",
    "\n",
    "import os\n",
    "from PIL import Image\n",
    "from pathlib import Path\n",
    "import csv\n",
    "\n",
    "from sklearn.model_selection import train_test_split\n",
    "from sklearn.preprocessing import LabelEncoder, StandardScaler\n",
    "\n",
    "from sklearn.linear_model import LinearRegression\n",
    "from sklearn.svm import SVC\n",
    "from sklearn.ensemble import RandomForestClassifier\n",
    "\n",
    "import tensorflow as tf\n",
    "import keras"
   ]
  },
  {
   "cell_type": "code",
   "execution_count": 44,
   "metadata": {
    "scrolled": true
   },
   "outputs": [
    {
     "data": {
      "text/plain": [
       "(128, 173)"
      ]
     },
     "execution_count": 44,
     "metadata": {},
     "output_type": "execute_result"
    }
   ],
   "source": [
    "import librosa.display\n",
    "\n",
    "songname = f'./genres/blues/blues.00000.au'\n",
    "y, sr = librosa.load(songname, mono=True, duration=2, offset=0)\n",
    "ps = librosa.feature.melspectrogram(y=y, sr=sr, hop_length = 256, n_fft = 512, n_mels=128)\n",
    "ps = librosa.power_to_db(ps**2)\n",
    "ps.shape"
   ]
  },
  {
   "cell_type": "code",
   "execution_count": 47,
   "metadata": {},
   "outputs": [],
   "source": [
    "dataset = []\n",
    "genres = {'blues': 0, 'classical': 1, 'country': 2, 'disco': 3, 'hiphop': 4, \n",
    "        'jazz': 5, 'metal': 6, 'pop': 7, 'reggae': 8, 'rock': 9}\n",
    "\n",
    "for genre, genre_number in genres.items():\n",
    "    for filename in os.listdir(f'./genres/{genre}'):\n",
    "        songname = f'./genres/{genre}/{filename}'\n",
    "        for index in range(8):\n",
    "            y, sr = librosa.load(songname, mono=True, duration=2, offset=index*)\n",
    "            ps = librosa.feature.melspectrogram(y=y, sr=sr, hop_length = 256, n_fft = 512, n_mels=64)\n",
    "            ps = librosa.power_to_db(ps**2)\n",
    "            dataset.append( (ps, genre_number) )               "
   ]
  },
  {
   "cell_type": "code",
   "execution_count": 49,
   "metadata": {},
   "outputs": [
    {
     "name": "stdout",
     "output_type": "stream",
     "text": [
      "4000\n"
     ]
    }
   ],
   "source": [
    "print(len(dataset))\n",
    "\n",
    "import random\n",
    "\n",
    "random.shuffle(dataset)\n",
    "\n",
    "train = dataset[:3000]\n",
    "valid = dataset[3000:3500]\n",
    "test = dataset[3500:]\n",
    "\n",
    "X_train, Y_train = zip(*train)\n",
    "X_valid, Y_valid = zip(*valid)\n",
    "X_test, Y_test = zip(*test)\n",
    "\n",
    "# Reshape for CNN input\n",
    "X_train = np.array([x.reshape( (64, 173, 1) ) for x in X_train])\n",
    "X_valid = np.array([x.reshape( (64, 173, 1) ) for x in X_valid])\n",
    "X_test = np.array([x.reshape( (64, 173, 1) ) for x in X_test])\n",
    "\n",
    "# One-Hot encoding for classes\n",
    "Y_train = np.array(keras.utils.to_categorical(Y_train, 10))\n",
    "Y_valid = np.array(keras.utils.to_categorical(Y_valid, 10))\n",
    "Y_test = np.array(keras.utils.to_categorical(Y_test, 10))\n"
   ]
  },
  {
   "cell_type": "code",
   "execution_count": 50,
   "metadata": {},
   "outputs": [
    {
     "name": "stdout",
     "output_type": "stream",
     "text": [
      "Model: \"sequential_11\"\n",
      "_________________________________________________________________\n",
      "Layer (type)                 Output Shape              Param #   \n",
      "=================================================================\n",
      "conv2d_29 (Conv2D)           (None, 61, 170, 64)       1088      \n",
      "_________________________________________________________________\n",
      "batch_normalization_5 (Batch (None, 61, 170, 64)       256       \n",
      "_________________________________________________________________\n",
      "max_pooling2d_15 (MaxPooling (None, 30, 42, 64)        0         \n",
      "_________________________________________________________________\n",
      "conv2d_30 (Conv2D)           (None, 28, 38, 64)        61504     \n",
      "_________________________________________________________________\n",
      "max_pooling2d_16 (MaxPooling (None, 14, 19, 64)        0         \n",
      "_________________________________________________________________\n",
      "dropout_15 (Dropout)         (None, 14, 19, 64)        0         \n",
      "_________________________________________________________________\n",
      "conv2d_31 (Conv2D)           (None, 13, 18, 64)        16448     \n",
      "_________________________________________________________________\n",
      "batch_normalization_6 (Batch (None, 13, 18, 64)        256       \n",
      "_________________________________________________________________\n",
      "max_pooling2d_17 (MaxPooling (None, 6, 9, 64)          0         \n",
      "_________________________________________________________________\n",
      "dropout_16 (Dropout)         (None, 6, 9, 64)          0         \n",
      "_________________________________________________________________\n",
      "flatten_9 (Flatten)          (None, 3456)              0         \n",
      "_________________________________________________________________\n",
      "dense_17 (Dense)             (None, 64)                221248    \n",
      "_________________________________________________________________\n",
      "dropout_17 (Dropout)         (None, 64)                0         \n",
      "_________________________________________________________________\n",
      "dense_18 (Dense)             (None, 32)                2080      \n",
      "_________________________________________________________________\n",
      "dense_19 (Dense)             (None, 10)                330       \n",
      "=================================================================\n",
      "Total params: 303,210\n",
      "Trainable params: 302,954\n",
      "Non-trainable params: 256\n",
      "_________________________________________________________________\n"
     ]
    }
   ],
   "source": [
    "from keras.models import Sequential\n",
    "from keras.layers import Dense\n",
    "from keras.layers import Activation\n",
    "from keras.layers import Conv2D\n",
    "from keras.layers import MaxPooling2D\n",
    "from keras.layers import Dropout\n",
    "from keras.layers import Flatten\n",
    "from keras.layers import BatchNormalization\n",
    "from keras.layers import AveragePooling2D\n",
    "\n",
    "from keras import regularizers\n",
    "\n",
    "model = Sequential()\n",
    "input_shape=(64, 173, 1)\n",
    "model.add(Conv2D(64, kernel_size=(4, 4),\n",
    "                     activation='relu', #kernel_regularizer=regularizers.l2(0.04),\n",
    "                     input_shape=input_shape))\n",
    "model.add(BatchNormalization())\n",
    "model.add(MaxPooling2D(pool_size=(2, 4)))\n",
    "model.add(Conv2D(64, (3, 5), activation='relu'\n",
    "                    , kernel_regularizer=regularizers.l2(0.04)\n",
    "                    ))\n",
    "model.add(MaxPooling2D(pool_size=(2, 2)))\n",
    "model.add(Dropout(0.2))\n",
    "model.add(Conv2D(64, (2, 2), activation='relu'\n",
    "       # , kernel_regularizer=regularizers.l2(0.04)\n",
    "        ))\n",
    "model.add(BatchNormalization())\n",
    "model.add(MaxPooling2D(pool_size=(2, 2)))\n",
    "model.add(Dropout(0.2))\n",
    "model.add(Flatten())\n",
    "model.add(Dense(64, activation='relu', kernel_regularizer=regularizers.l2(0.04)))\n",
    "model.add(Dropout(0.5))\n",
    "model.add(Dense(32, activation='relu', kernel_regularizer=regularizers.l2(0.04)))\n",
    "model.add(Dense(10, activation='softmax'))\n",
    "model.summary()"
   ]
  },
  {
   "cell_type": "code",
   "execution_count": 53,
   "metadata": {},
   "outputs": [
    {
     "name": "stdout",
     "output_type": "stream",
     "text": [
      "Train on 3000 samples, validate on 500 samples\n",
      "Epoch 1/10\n",
      "3000/3000 [==============================] - 84s 28ms/step - loss: 1.9206 - accuracy: 0.4810 - val_loss: 1.9140 - val_accuracy: 0.5040\n",
      "Epoch 2/10\n",
      "3000/3000 [==============================] - 89s 30ms/step - loss: 1.9231 - accuracy: 0.4880 - val_loss: 2.1063 - val_accuracy: 0.3800\n",
      "Epoch 3/10\n",
      "3000/3000 [==============================] - 86s 29ms/step - loss: 1.8750 - accuracy: 0.5117 - val_loss: 1.9306 - val_accuracy: 0.5220\n",
      "Epoch 4/10\n",
      "3000/3000 [==============================] - 81s 27ms/step - loss: 1.9011 - accuracy: 0.5270 - val_loss: 1.8447 - val_accuracy: 0.5860\n",
      "Epoch 5/10\n",
      "3000/3000 [==============================] - 88s 29ms/step - loss: 1.8937 - accuracy: 0.5177 - val_loss: 1.7991 - val_accuracy: 0.5680\n",
      "Epoch 6/10\n",
      "3000/3000 [==============================] - 86s 29ms/step - loss: 1.8676 - accuracy: 0.5477 - val_loss: 2.1223 - val_accuracy: 0.4660\n",
      "Epoch 7/10\n",
      "3000/3000 [==============================] - 93s 31ms/step - loss: 1.8877 - accuracy: 0.5443 - val_loss: 2.0251 - val_accuracy: 0.4680\n",
      "Epoch 8/10\n",
      "3000/3000 [==============================] - 90s 30ms/step - loss: 1.8764 - accuracy: 0.5723 - val_loss: 1.9772 - val_accuracy: 0.5120\n",
      "Epoch 9/10\n",
      "3000/3000 [==============================] - 93s 31ms/step - loss: 1.8678 - accuracy: 0.5597 - val_loss: 1.9429 - val_accuracy: 0.5100\n",
      "Epoch 10/10\n",
      "3000/3000 [==============================] - 85s 28ms/step - loss: 1.8772 - accuracy: 0.5650 - val_loss: 2.0611 - val_accuracy: 0.5100\n"
     ]
    }
   ],
   "source": [
    "from keras.callbacks import EarlyStopping\n",
    "\n",
    "model.compile(optimizer='adam', loss='categorical_crossentropy', metrics=['accuracy'])\n",
    "\n",
    "#early_stopping = EarlyStopping(monitor='val_loss', patience=20, verbose=2)\n",
    "hist = model.fit(X_train, Y_train, epochs=10, batch_size=32, validation_data= (X_valid, Y_valid))"
   ]
  },
  {
   "cell_type": "code",
   "execution_count": 54,
   "metadata": {},
   "outputs": [
    {
     "data": {
      "image/png": "[encoded data removed]",
      "text/plain": [
       "<Figure size 864x576 with 1 Axes>"
      ]
     },
     "metadata": {
      "needs_background": "light"
     },
     "output_type": "display_data"
    },
    {
     "name": "stdout",
     "output_type": "stream",
     "text": [
      "500/500 [==============================] - 3s 5ms/step\n",
      "Test loss: 2.1491350803375244\n",
      "Test accuracy: 0.4480000138282776\n"
     ]
    }
   ],
   "source": [
    "plt.figure(figsize=(12,8))\n",
    "plt.plot(hist.history['loss'])\n",
    "plt.plot(hist.history['val_loss'])\n",
    "plt.plot(hist.history['accuracy'])\n",
    "plt.plot(hist.history['val_accuracy'])\n",
    "plt.legend(['loss','val_loss', 'accuracy','val_accuracy'])\n",
    "plt.show()\n",
    "\n",
    "score = model.evaluate(X_test, Y_test)\n",
    "print('Test loss:', score[0])\n",
    "print('Test accuracy:', score[1])"
   ]
  },
  {
   "cell_type": "code",
   "execution_count": null,
   "metadata": {},
   "outputs": [],
   "source": []
  }
 ],
 "metadata": {
  "kernelspec": {
   "display_name": "Python 3",
   "language": "python",
   "name": "python3"
  },
  "language_info": {
   "codemirror_mode": {
    "name": "ipython",
    "version": 3
   },
   "file_extension": ".py",
   "mimetype": "text/x-python",
   "name": "python",
   "nbconvert_exporter": "python",
   "pygments_lexer": "ipython3",
   "version": "3.7.2"
  }
 },
 "nbformat": 4,
 "nbformat_minor": 2
}
