{
 "cells": [
  {
   "cell_type": "code",
   "execution_count": 1,
   "metadata": {},
   "outputs": [
    {
     "name": "stderr",
     "output_type": "stream",
     "text": [
      "/Library/Frameworks/Python.framework/Versions/3.7/lib/python3.7/site-packages/tensorflow/python/framework/dtypes.py:516: FutureWarning: Passing (type, 1) or '1type' as a synonym of type is deprecated; in a future version of numpy, it will be understood as (type, (1,)) / '(1,)type'.\n",
      "  _np_qint8 = np.dtype([(\"qint8\", np.int8, 1)])\n",
      "/Library/Frameworks/Python.framework/Versions/3.7/lib/python3.7/site-packages/tensorflow/python/framework/dtypes.py:517: FutureWarning: Passing (type, 1) or '1type' as a synonym of type is deprecated; in a future version of numpy, it will be understood as (type, (1,)) / '(1,)type'.\n",
      "  _np_quint8 = np.dtype([(\"quint8\", np.uint8, 1)])\n",
      "/Library/Frameworks/Python.framework/Versions/3.7/lib/python3.7/site-packages/tensorflow/python/framework/dtypes.py:518: FutureWarning: Passing (type, 1) or '1type' as a synonym of type is deprecated; in a future version of numpy, it will be understood as (type, (1,)) / '(1,)type'.\n",
      "  _np_qint16 = np.dtype([(\"qint16\", np.int16, 1)])\n",
      "/Library/Frameworks/Python.framework/Versions/3.7/lib/python3.7/site-packages/tensorflow/python/framework/dtypes.py:519: FutureWarning: Passing (type, 1) or '1type' as a synonym of type is deprecated; in a future version of numpy, it will be understood as (type, (1,)) / '(1,)type'.\n",
      "  _np_quint16 = np.dtype([(\"quint16\", np.uint16, 1)])\n",
      "/Library/Frameworks/Python.framework/Versions/3.7/lib/python3.7/site-packages/tensorflow/python/framework/dtypes.py:520: FutureWarning: Passing (type, 1) or '1type' as a synonym of type is deprecated; in a future version of numpy, it will be understood as (type, (1,)) / '(1,)type'.\n",
      "  _np_qint32 = np.dtype([(\"qint32\", np.int32, 1)])\n",
      "/Library/Frameworks/Python.framework/Versions/3.7/lib/python3.7/site-packages/tensorflow/python/framework/dtypes.py:525: FutureWarning: Passing (type, 1) or '1type' as a synonym of type is deprecated; in a future version of numpy, it will be understood as (type, (1,)) / '(1,)type'.\n",
      "  np_resource = np.dtype([(\"resource\", np.ubyte, 1)])\n",
      "/Library/Frameworks/Python.framework/Versions/3.7/lib/python3.7/site-packages/tensorboard/compat/tensorflow_stub/dtypes.py:541: FutureWarning: Passing (type, 1) or '1type' as a synonym of type is deprecated; in a future version of numpy, it will be understood as (type, (1,)) / '(1,)type'.\n",
      "  _np_qint8 = np.dtype([(\"qint8\", np.int8, 1)])\n",
      "/Library/Frameworks/Python.framework/Versions/3.7/lib/python3.7/site-packages/tensorboard/compat/tensorflow_stub/dtypes.py:542: FutureWarning: Passing (type, 1) or '1type' as a synonym of type is deprecated; in a future version of numpy, it will be understood as (type, (1,)) / '(1,)type'.\n",
      "  _np_quint8 = np.dtype([(\"quint8\", np.uint8, 1)])\n",
      "/Library/Frameworks/Python.framework/Versions/3.7/lib/python3.7/site-packages/tensorboard/compat/tensorflow_stub/dtypes.py:543: FutureWarning: Passing (type, 1) or '1type' as a synonym of type is deprecated; in a future version of numpy, it will be understood as (type, (1,)) / '(1,)type'.\n",
      "  _np_qint16 = np.dtype([(\"qint16\", np.int16, 1)])\n",
      "/Library/Frameworks/Python.framework/Versions/3.7/lib/python3.7/site-packages/tensorboard/compat/tensorflow_stub/dtypes.py:544: FutureWarning: Passing (type, 1) or '1type' as a synonym of type is deprecated; in a future version of numpy, it will be understood as (type, (1,)) / '(1,)type'.\n",
      "  _np_quint16 = np.dtype([(\"quint16\", np.uint16, 1)])\n",
      "/Library/Frameworks/Python.framework/Versions/3.7/lib/python3.7/site-packages/tensorboard/compat/tensorflow_stub/dtypes.py:545: FutureWarning: Passing (type, 1) or '1type' as a synonym of type is deprecated; in a future version of numpy, it will be understood as (type, (1,)) / '(1,)type'.\n",
      "  _np_qint32 = np.dtype([(\"qint32\", np.int32, 1)])\n",
      "/Library/Frameworks/Python.framework/Versions/3.7/lib/python3.7/site-packages/tensorboard/compat/tensorflow_stub/dtypes.py:550: FutureWarning: Passing (type, 1) or '1type' as a synonym of type is deprecated; in a future version of numpy, it will be understood as (type, (1,)) / '(1,)type'.\n",
      "  np_resource = np.dtype([(\"resource\", np.ubyte, 1)])\n",
      "Using TensorFlow backend.\n"
     ]
    }
   ],
   "source": [
    "### Importing Libraries\n",
    "\n",
    "import pandas as pd\n",
    "import numpy as np\n",
    "import librosa\n",
    "import matplotlib.pyplot as plt\n",
    "\n",
    "import os\n",
    "from PIL import Image\n",
    "from pathlib import Path\n",
    "import csv\n",
    "\n",
    "from sklearn.model_selection import train_test_split\n",
    "from sklearn.preprocessing import LabelEncoder, StandardScaler\n",
    "\n",
    "from sklearn.linear_model import LinearRegression\n",
    "from sklearn.svm import SVC\n",
    "from sklearn.ensemble import RandomForestClassifier\n",
    "\n",
    "import tensorflow as tf\n",
    "import keras"
   ]
  },
  {
   "cell_type": "code",
   "execution_count": 10,
   "metadata": {},
   "outputs": [
    {
     "data": {
      "text/plain": [
       "(128, 216)"
      ]
     },
     "execution_count": 10,
     "metadata": {},
     "output_type": "execute_result"
    }
   ],
   "source": [
    "songname = f'./genres/blues/blues.00000.au'\n",
    "y, sr = librosa.load(songname, mono=True, duration=5)\n",
    "ps = librosa.feature.melspectrogram(y=y, sr=sr, n_mels=128)\n",
    "ps.shape"
   ]
  },
  {
   "cell_type": "code",
   "execution_count": 11,
   "metadata": {},
   "outputs": [],
   "source": [
    "dataset = []\n",
    "genres = {'blues': 0, 'classical': 1, 'country': 2, 'disco': 3, 'hiphop': 4, \n",
    "        'jazz': 5, 'metal': 6, 'pop': 7, 'reggae': 8, 'rock': 9}\n",
    "\n",
    "for genre, index in genres.items():\n",
    "    for filename in os.listdir(f'./genres/{genre}'):\n",
    "        songname = f'./genres/{genre}/{filename}'\n",
    "        y, sr = librosa.load(songname, mono=True, duration=5)\n",
    "        ps = librosa.feature.melspectrogram(y=y, sr=sr)\n",
    "        dataset.append( (ps, index) )               "
   ]
  },
  {
   "cell_type": "code",
   "execution_count": 20,
   "metadata": {},
   "outputs": [
    {
     "name": "stdout",
     "output_type": "stream",
     "text": [
      "1000\n"
     ]
    }
   ],
   "source": [
    "print(len(dataset))\n",
    "\n",
    "import random\n",
    "\n",
    "random.shuffle(dataset)\n",
    "\n",
    "train = dataset[:700]\n",
    "valid = dataset[700:850]\n",
    "test = dataset[850:]\n",
    "\n",
    "X_train, Y_train = zip(*train)\n",
    "X_valid, Y_valid = zip(*valid)\n",
    "X_test, Y_test = zip(*test)\n",
    "\n",
    "# Reshape for CNN input\n",
    "X_train = np.array([x.reshape( (128, 216, 1) ) for x in X_train])\n",
    "X_valid = np.array([x.reshape( (128, 216, 1) ) for x in X_valid])\n",
    "X_test = np.array([x.reshape( (128, 216, 1) ) for x in X_test])\n",
    "\n",
    "# One-Hot encoding for classes\n",
    "Y_train = np.array(keras.utils.to_categorical(Y_train, 10))\n",
    "Y_valid = np.array(keras.utils.to_categorical(Y_valid, 10))\n",
    "Y_test = np.array(keras.utils.to_categorical(Y_test, 10))"
   ]
  },
  {
   "cell_type": "code",
   "execution_count": 15,
   "metadata": {},
   "outputs": [
    {
     "name": "stdout",
     "output_type": "stream",
     "text": [
      "Model: \"sequential_3\"\n",
      "_________________________________________________________________\n",
      "Layer (type)                 Output Shape              Param #   \n",
      "=================================================================\n",
      "conv2d_8 (Conv2D)            (None, 124, 212, 24)      624       \n",
      "_________________________________________________________________\n",
      "average_pooling2d_4 (Average (None, 62, 106, 24)       0         \n",
      "_________________________________________________________________\n",
      "activation_6 (Activation)    (None, 62, 106, 24)       0         \n",
      "_________________________________________________________________\n",
      "conv2d_9 (Conv2D)            (None, 62, 106, 48)       28848     \n",
      "_________________________________________________________________\n",
      "average_pooling2d_5 (Average (None, 31, 53, 48)        0         \n",
      "_________________________________________________________________\n",
      "activation_7 (Activation)    (None, 31, 53, 48)        0         \n",
      "_________________________________________________________________\n",
      "conv2d_10 (Conv2D)           (None, 31, 53, 48)        57648     \n",
      "_________________________________________________________________\n",
      "average_pooling2d_6 (Average (None, 15, 26, 48)        0         \n",
      "_________________________________________________________________\n",
      "activation_8 (Activation)    (None, 15, 26, 48)        0         \n",
      "_________________________________________________________________\n",
      "flatten_3 (Flatten)          (None, 18720)             0         \n",
      "_________________________________________________________________\n",
      "dropout_3 (Dropout)          (None, 18720)             0         \n",
      "_________________________________________________________________\n",
      "dense_4 (Dense)              (None, 64)                1198144   \n",
      "_________________________________________________________________\n",
      "activation_9 (Activation)    (None, 64)                0         \n",
      "_________________________________________________________________\n",
      "dropout_4 (Dropout)          (None, 64)                0         \n",
      "_________________________________________________________________\n",
      "dense_5 (Dense)              (None, 10)                650       \n",
      "_________________________________________________________________\n",
      "activation_10 (Activation)   (None, 10)                0         \n",
      "=================================================================\n",
      "Total params: 1,285,914\n",
      "Trainable params: 1,285,914\n",
      "Non-trainable params: 0\n",
      "_________________________________________________________________\n"
     ]
    }
   ],
   "source": [
    "from keras.models import Sequential\n",
    "from keras.layers import Dense\n",
    "from keras.layers import Activation\n",
    "from keras.layers import Conv2D\n",
    "from keras.layers import MaxPooling2D\n",
    "from keras.layers import Dropout\n",
    "from keras.layers import Flatten\n",
    "from keras.layers import BatchNormalization\n",
    "from keras.layers import AveragePooling2D\n",
    "\n",
    "input_shape=(128, 216, 1)\n",
    "model = Sequential()\n",
    "\n",
    "model.add(Conv2D(24, (5, 5), strides=(1, 1), input_shape=input_shape))\n",
    "model.add(AveragePooling2D((2, 2), strides=(2,2)))\n",
    "model.add(Activation('relu'))\n",
    "\n",
    "model.add(Conv2D(48, (5, 5), padding=\"same\"))\n",
    "model.add(AveragePooling2D((2, 2), strides=(2,2)))\n",
    "model.add(Activation('relu'))\n",
    "\n",
    "model.add(Conv2D(48, (5, 5), padding=\"same\"))\n",
    "model.add(AveragePooling2D((2, 2), strides=(2,2)))\n",
    "model.add(Activation('relu'))\n",
    "\n",
    "model.add(Flatten())\n",
    "model.add(Dropout(rate=0.5))\n",
    "\n",
    "model.add(Dense(64))\n",
    "model.add(Activation('relu'))\n",
    "model.add(Dropout(rate=0.5))\n",
    "\n",
    "model.add(Dense(10))\n",
    "model.add(Activation('softmax'))\n",
    "model.summary()"
   ]
  },
  {
   "cell_type": "code",
   "execution_count": 18,
   "metadata": {},
   "outputs": [
    {
     "name": "stdout",
     "output_type": "stream",
     "text": [
      "Train on 700 samples, validate on 150 samples\n",
      "Epoch 1/23\n",
      "700/700 [==============================] - 16s 23ms/step - loss: 0.1846 - accuracy: 0.9400 - val_loss: 4.0863 - val_accuracy: 0.4533\n",
      "Epoch 2/23\n",
      "700/700 [==============================] - 17s 24ms/step - loss: 0.4338 - accuracy: 0.9143 - val_loss: 2.9202 - val_accuracy: 0.5000\n",
      "Epoch 3/23\n",
      "700/700 [==============================] - 18s 26ms/step - loss: 0.2318 - accuracy: 0.9271 - val_loss: 3.1659 - val_accuracy: 0.4667\n",
      "Epoch 4/23\n",
      "700/700 [==============================] - 20s 29ms/step - loss: 0.2492 - accuracy: 0.9386 - val_loss: 2.6406 - val_accuracy: 0.4733\n",
      "Epoch 5/23\n",
      "700/700 [==============================] - 21s 30ms/step - loss: 0.2183 - accuracy: 0.9300 - val_loss: 2.5828 - val_accuracy: 0.5133\n",
      "Epoch 6/23\n",
      "700/700 [==============================] - 21s 29ms/step - loss: 0.1920 - accuracy: 0.9371 - val_loss: 2.8268 - val_accuracy: 0.4867\n",
      "Epoch 7/23\n",
      "700/700 [==============================] - 20s 28ms/step - loss: 0.1809 - accuracy: 0.9414 - val_loss: 3.1049 - val_accuracy: 0.5067\n",
      "Epoch 8/23\n",
      "700/700 [==============================] - 19s 28ms/step - loss: 0.1716 - accuracy: 0.9414 - val_loss: 3.1035 - val_accuracy: 0.4733\n",
      "Epoch 9/23\n",
      "700/700 [==============================] - 19s 27ms/step - loss: 0.1538 - accuracy: 0.9643 - val_loss: 3.1202 - val_accuracy: 0.4667\n",
      "Epoch 10/23\n",
      "700/700 [==============================] - 24s 34ms/step - loss: 0.2802 - accuracy: 0.9314 - val_loss: 2.5278 - val_accuracy: 0.5067\n",
      "Epoch 11/23\n",
      "700/700 [==============================] - 20s 28ms/step - loss: 0.1848 - accuracy: 0.9557 - val_loss: 2.5377 - val_accuracy: 0.4733\n",
      "Epoch 12/23\n",
      "700/700 [==============================] - 23s 33ms/step - loss: 0.2414 - accuracy: 0.9386 - val_loss: 2.6310 - val_accuracy: 0.4800\n",
      "Epoch 13/23\n",
      "700/700 [==============================] - 18s 26ms/step - loss: 0.1716 - accuracy: 0.9429 - val_loss: 2.8587 - val_accuracy: 0.5000\n",
      "Epoch 14/23\n",
      "700/700 [==============================] - 21s 30ms/step - loss: 0.1266 - accuracy: 0.9657 - val_loss: 2.5841 - val_accuracy: 0.5267\n",
      "Epoch 15/23\n",
      "700/700 [==============================] - 21s 30ms/step - loss: 0.1186 - accuracy: 0.9586 - val_loss: 3.0430 - val_accuracy: 0.5333\n",
      "Epoch 16/23\n",
      "700/700 [==============================] - 24s 34ms/step - loss: 0.1930 - accuracy: 0.9571 - val_loss: 2.5473 - val_accuracy: 0.5000\n",
      "Epoch 17/23\n",
      "700/700 [==============================] - 18s 26ms/step - loss: 0.1962 - accuracy: 0.9314 - val_loss: 2.6006 - val_accuracy: 0.5067\n",
      "Epoch 18/23\n",
      "700/700 [==============================] - 17s 25ms/step - loss: 0.1759 - accuracy: 0.9543 - val_loss: 2.7075 - val_accuracy: 0.5067\n",
      "Epoch 19/23\n",
      "700/700 [==============================] - 25s 36ms/step - loss: 0.1086 - accuracy: 0.9729 - val_loss: 2.7800 - val_accuracy: 0.5200\n",
      "Epoch 20/23\n",
      "700/700 [==============================] - 20s 29ms/step - loss: 0.0932 - accuracy: 0.9714 - val_loss: 3.1419 - val_accuracy: 0.4600\n",
      "Epoch 21/23\n",
      "700/700 [==============================] - 20s 28ms/step - loss: 0.1267 - accuracy: 0.9586 - val_loss: 3.2791 - val_accuracy: 0.4867\n",
      "Epoch 22/23\n",
      "700/700 [==============================] - 18s 25ms/step - loss: 0.1581 - accuracy: 0.9686 - val_loss: 3.3549 - val_accuracy: 0.4933\n",
      "Epoch 23/23\n",
      "700/700 [==============================] - 17s 24ms/step - loss: 0.1277 - accuracy: 0.9571 - val_loss: 4.5183 - val_accuracy: 0.4800\n"
     ]
    }
   ],
   "source": [
    "from keras.callbacks import EarlyStopping\n",
    "\n",
    "model.compile(optimizer='adam', loss='categorical_crossentropy', metrics=['accuracy'])\n",
    "\n",
    "#early_stopping = EarlyStopping(monitor='val_loss', patience=20, verbose=2)\n",
    "hist = model.fit(X_train, Y_train, epochs=23, batch_size=32, validation_data= (X_valid, Y_valid))"
   ]
  },
  {
   "cell_type": "code",
   "execution_count": 19,
   "metadata": {},
   "outputs": [
    {
     "data": {
      "image/png": "[encoded data removed]",
      "text/plain": [
       "<Figure size 864x576 with 1 Axes>"
      ]
     },
     "metadata": {
      "needs_background": "light"
     },
     "output_type": "display_data"
    },
    {
     "name": "stdout",
     "output_type": "stream",
     "text": [
      "150/150 [==============================] - 1s 7ms/step\n",
      "Test loss: 4.972743746439616\n",
      "Test accuracy: 0.4933333396911621\n"
     ]
    }
   ],
   "source": [
    "plt.figure(figsize=(12,8))\n",
    "plt.plot(hist.history['loss'])\n",
    "plt.plot(hist.history['val_loss'])\n",
    "plt.plot(hist.history['accuracy'])\n",
    "plt.plot(hist.history['val_accuracy'])\n",
    "plt.legend(['loss','val_loss', 'accuracy','val_accuracy'])\n",
    "plt.show()\n",
    "\n",
    "score = model.evaluate(X_test, Y_test)\n",
    "print('Test loss:', score[0])\n",
    "print('Test accuracy:', score[1])"
   ]
  },
  {
   "cell_type": "code",
   "execution_count": null,
   "metadata": {},
   "outputs": [],
   "source": []
  }
 ],
 "metadata": {
  "kernelspec": {
   "display_name": "Python 3",
   "language": "python",
   "name": "python3"
  },
  "language_info": {
   "codemirror_mode": {
    "name": "ipython",
    "version": 3
   },
   "file_extension": ".py",
   "mimetype": "text/x-python",
   "name": "python",
   "nbconvert_exporter": "python",
   "pygments_lexer": "ipython3",
   "version": "3.7.2"
  }
 },
 "nbformat": 4,
 "nbformat_minor": 2
}
