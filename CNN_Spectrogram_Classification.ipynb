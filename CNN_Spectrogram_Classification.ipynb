{
  "nbformat": 4,
  "nbformat_minor": 0,
  "metadata": {
    "kernelspec": {
      "name": "python3",
      "display_name": "Python 3"
    },
    "language_info": {
      "codemirror_mode": {
        "name": "ipython",
        "version": 3
      },
      "file_extension": ".py",
      "mimetype": "text/x-python",
      "name": "python",
      "nbconvert_exporter": "python",
      "pygments_lexer": "ipython3",
      "version": "3.7.2"
    },
    "colab": {
      "name": "CNN_Spectrogram_Classification.ipynb",
      "provenance": [],
      "include_colab_link": true
    },
    "accelerator": "GPU"
  },
  "cells": [
    {
      "cell_type": "markdown",
      "metadata": {
        "id": "view-in-github",
        "colab_type": "text"
      },
      "source": [
        "<a href=\"https://colab.research.google.com/github/xinruili07/MusicGenreClassifier/blob/master/CNN_Spectrogram_Classification.ipynb\" target=\"_parent\"><img src=\"https://colab.research.google.com/assets/colab-badge.svg\" alt=\"Open In Colab\"/></a>"
      ]
    },
    {
      "cell_type": "code",
      "metadata": {
        "id": "xGplgJ0UWgfw",
        "colab_type": "code",
        "outputId": "7bbbaf2b-1310-4666-ca9b-185c53193f5f",
        "colab": {
          "base_uri": "https://localhost:8080/",
          "height": 34
        }
      },
      "source": [
        "!mkdir genres\n",
        "!unzip -q \"/content/genres.zip\""
      ],
      "execution_count": 0,
      "outputs": [
        {
          "output_type": "stream",
          "text": [
            "mkdir: cannot create directory ‘genres’: File exists\n"
          ],
          "name": "stdout"
        }
      ]
    },
    {
      "cell_type": "code",
      "metadata": {
        "id": "UICIkcpX7cyY",
        "colab_type": "code",
        "colab": {}
      },
      "source": [
        "### Importing Libraries\n",
        "\n",
        "import pandas as pd\n",
        "import numpy as np\n",
        "import librosa\n",
        "import matplotlib.pyplot as plt\n",
        "\n",
        "import os\n",
        "from PIL import Image\n",
        "from pathlib import Path\n",
        "import csv\n",
        "\n",
        "from sklearn.model_selection import train_test_split\n",
        "from sklearn.preprocessing import LabelEncoder, StandardScaler\n",
        "\n",
        "from sklearn.linear_model import LinearRegression\n",
        "from sklearn.svm import SVC\n",
        "from sklearn.ensemble import RandomForestClassifier\n",
        "\n",
        "import tensorflow as tf\n",
        "import keras"
      ],
      "execution_count": 0,
      "outputs": []
    },
    {
      "cell_type": "code",
      "metadata": {
        "scrolled": true,
        "id": "EJsM9K3C7cyd",
        "colab_type": "code",
        "outputId": "74770529-1889-4223-9e23-902b02596d06",
        "colab": {
          "base_uri": "https://localhost:8080/",
          "height": 34
        }
      },
      "source": [
        "import librosa.display\n",
        "\n",
        "songname = f'./genres/blues/blues.00000.au'\n",
        "y, sr = librosa.load(songname, mono=True, duration=2, offset=0)\n",
        "ps = librosa.feature.melspectrogram(y=y, sr=sr, hop_length = 256, n_fft = 512, n_mels=128)\n",
        "ps = librosa.power_to_db(ps**2)\n",
        "ps.shape"
      ],
      "execution_count": 0,
      "outputs": [
        {
          "output_type": "execute_result",
          "data": {
            "text/plain": [
              "(128, 173)"
            ]
          },
          "metadata": {
            "tags": []
          },
          "execution_count": 10
        }
      ]
    },
    {
      "cell_type": "code",
      "metadata": {
        "id": "mxHZlIJw7cyf",
        "colab_type": "code",
        "colab": {}
      },
      "source": [
        "dataset = []\n",
        "genres = {'blues': 0, 'classical': 1, 'country': 2, 'disco': 3, 'hiphop': 4, \n",
        "        'jazz': 5, 'metal': 6, 'pop': 7, 'reggae': 8, 'rock': 9}\n",
        "\n",
        "for genre, genre_number in genres.items():\n",
        "    for filename in os.listdir(f'./genres/{genre}'):\n",
        "        songname = f'./genres/{genre}/{filename}'\n",
        "        for index in range(14):\n",
        "            y, sr = librosa.load(songname, mono=True, duration=2, offset=index*2)\n",
        "            ps = librosa.feature.melspectrogram(y=y, sr=sr, hop_length = 256, n_fft = 512, n_mels=64)\n",
        "            ps = librosa.power_to_db(ps**2)\n",
        "            dataset.append( (ps, genre_number) )               "
      ],
      "execution_count": 0,
      "outputs": []
    },
    {
      "cell_type": "code",
      "metadata": {
        "id": "6t7nvd0F7cyh",
        "colab_type": "code",
        "outputId": "52a12787-70b6-4ea0-8626-ba55c62562dc",
        "colab": {
          "base_uri": "https://localhost:8080/",
          "height": 34
        }
      },
      "source": [
        "print(len(dataset))\n",
        "\n",
        "import random\n",
        "\n",
        "random.shuffle(dataset)\n",
        "\n",
        "train = dataset[:10000]\n",
        "valid = dataset[10000:12000]\n",
        "test = dataset[12000:]\n",
        "\n",
        "X_train, Y_train = zip(*train)\n",
        "X_valid, Y_valid = zip(*valid)\n",
        "X_test, Y_test = zip(*test)\n",
        "\n",
        "# Reshape for CNN input\n",
        "X_train = np.array([x.reshape( (64, 173, 1) ) for x in X_train])\n",
        "X_valid = np.array([x.reshape( (64, 173, 1) ) for x in X_valid])\n",
        "X_test = np.array([x.reshape( (64, 173, 1) ) for x in X_test])\n",
        "\n",
        "# One-Hot encoding for classes\n",
        "Y_train = np.array(keras.utils.to_categorical(Y_train, 10))\n",
        "Y_valid = np.array(keras.utils.to_categorical(Y_valid, 10))\n",
        "Y_test = np.array(keras.utils.to_categorical(Y_test, 10))\n"
      ],
      "execution_count": 0,
      "outputs": [
        {
          "output_type": "stream",
          "text": [
            "14000\n"
          ],
          "name": "stdout"
        }
      ]
    },
    {
      "cell_type": "code",
      "metadata": {
        "id": "73ZT_KJq7cyk",
        "colab_type": "code",
        "outputId": "38be8bba-4105-40b1-a07b-6e57935d1775",
        "colab": {
          "base_uri": "https://localhost:8080/",
          "height": 938
        }
      },
      "source": [
        "from keras.models import Sequential\n",
        "from keras.layers import Dense\n",
        "from keras.layers import Activation\n",
        "from keras.layers import Conv2D\n",
        "from keras.layers import MaxPooling2D\n",
        "from keras.layers import Dropout\n",
        "from keras.layers import Flatten\n",
        "from keras.layers import BatchNormalization\n",
        "from keras.layers import AveragePooling2D\n",
        "\n",
        "from keras import regularizers\n",
        "\n",
        "model = Sequential()\n",
        "input_shape=(64, 173, 1)\n",
        "\n",
        "model.add(Conv2D(24, (5, 5), strides=(1, 1), input_shape=input_shape))\n",
        "model.add(AveragePooling2D((2, 2), strides=(2,2)))\n",
        "model.add(Activation('relu'))\n",
        "\n",
        "model.add(Conv2D(48, (5, 5), padding=\"same\"))\n",
        "model.add(AveragePooling2D((2, 2), strides=(2,2)))\n",
        "model.add(Activation('relu'))\n",
        "\n",
        "model.add(Conv2D(48, (5, 5), padding=\"same\"))\n",
        "model.add(AveragePooling2D((2, 2), strides=(2,2)))\n",
        "model.add(Activation('relu'))\n",
        "\n",
        "model.add(Flatten())\n",
        "model.add(Dropout(rate=0.5))\n",
        "\n",
        "model.add(Dense(64))\n",
        "model.add(Activation('relu'))\n",
        "model.add(Dropout(rate=0.5))\n",
        "\n",
        "model.add(Dense(10))\n",
        "model.add(Activation('softmax'))\n",
        "model.summary()"
      ],
      "execution_count": 0,
      "outputs": [
        {
          "output_type": "stream",
          "text": [
            "WARNING:tensorflow:From /usr/local/lib/python3.6/dist-packages/keras/backend/tensorflow_backend.py:66: The name tf.get_default_graph is deprecated. Please use tf.compat.v1.get_default_graph instead.\n",
            "\n",
            "WARNING:tensorflow:From /usr/local/lib/python3.6/dist-packages/keras/backend/tensorflow_backend.py:541: The name tf.placeholder is deprecated. Please use tf.compat.v1.placeholder instead.\n",
            "\n",
            "WARNING:tensorflow:From /usr/local/lib/python3.6/dist-packages/keras/backend/tensorflow_backend.py:4432: The name tf.random_uniform is deprecated. Please use tf.random.uniform instead.\n",
            "\n",
            "WARNING:tensorflow:From /usr/local/lib/python3.6/dist-packages/keras/backend/tensorflow_backend.py:4271: The name tf.nn.avg_pool is deprecated. Please use tf.nn.avg_pool2d instead.\n",
            "\n",
            "WARNING:tensorflow:From /usr/local/lib/python3.6/dist-packages/keras/backend/tensorflow_backend.py:148: The name tf.placeholder_with_default is deprecated. Please use tf.compat.v1.placeholder_with_default instead.\n",
            "\n",
            "WARNING:tensorflow:From /usr/local/lib/python3.6/dist-packages/keras/backend/tensorflow_backend.py:3733: calling dropout (from tensorflow.python.ops.nn_ops) with keep_prob is deprecated and will be removed in a future version.\n",
            "Instructions for updating:\n",
            "Please use `rate` instead of `keep_prob`. Rate should be set to `rate = 1 - keep_prob`.\n",
            "Model: \"sequential_1\"\n",
            "_________________________________________________________________\n",
            "Layer (type)                 Output Shape              Param #   \n",
            "=================================================================\n",
            "conv2d_1 (Conv2D)            (None, 60, 169, 24)       624       \n",
            "_________________________________________________________________\n",
            "average_pooling2d_1 (Average (None, 30, 84, 24)        0         \n",
            "_________________________________________________________________\n",
            "activation_1 (Activation)    (None, 30, 84, 24)        0         \n",
            "_________________________________________________________________\n",
            "conv2d_2 (Conv2D)            (None, 30, 84, 48)        28848     \n",
            "_________________________________________________________________\n",
            "average_pooling2d_2 (Average (None, 15, 42, 48)        0         \n",
            "_________________________________________________________________\n",
            "activation_2 (Activation)    (None, 15, 42, 48)        0         \n",
            "_________________________________________________________________\n",
            "conv2d_3 (Conv2D)            (None, 15, 42, 48)        57648     \n",
            "_________________________________________________________________\n",
            "average_pooling2d_3 (Average (None, 7, 21, 48)         0         \n",
            "_________________________________________________________________\n",
            "activation_3 (Activation)    (None, 7, 21, 48)         0         \n",
            "_________________________________________________________________\n",
            "flatten_1 (Flatten)          (None, 7056)              0         \n",
            "_________________________________________________________________\n",
            "dropout_1 (Dropout)          (None, 7056)              0         \n",
            "_________________________________________________________________\n",
            "dense_1 (Dense)              (None, 64)                451648    \n",
            "_________________________________________________________________\n",
            "activation_4 (Activation)    (None, 64)                0         \n",
            "_________________________________________________________________\n",
            "dropout_2 (Dropout)          (None, 64)                0         \n",
            "_________________________________________________________________\n",
            "dense_2 (Dense)              (None, 10)                650       \n",
            "_________________________________________________________________\n",
            "activation_5 (Activation)    (None, 10)                0         \n",
            "=================================================================\n",
            "Total params: 539,418\n",
            "Trainable params: 539,418\n",
            "Non-trainable params: 0\n",
            "_________________________________________________________________\n"
          ],
          "name": "stdout"
        }
      ]
    },
    {
      "cell_type": "code",
      "metadata": {
        "id": "BOZbMpBH7cyn",
        "colab_type": "code",
        "outputId": "87af4828-56dc-4a93-80fe-0c3e086b18e2",
        "colab": {
          "base_uri": "https://localhost:8080/",
          "height": 1000
        }
      },
      "source": [
        "from keras.callbacks import EarlyStopping\n",
        "\n",
        "model.compile(optimizer='adam', loss='categorical_crossentropy', metrics=['accuracy'])\n",
        "\n",
        "early_stopping = EarlyStopping(monitor='val_loss', patience=20, verbose=2)\n",
        "hist = model.fit(X_train, Y_train, epochs=90, batch_size=32, validation_data= (X_valid, Y_valid), callbacks=[early_stopping])"
      ],
      "execution_count": 0,
      "outputs": [
        {
          "output_type": "stream",
          "text": [
            "WARNING:tensorflow:From /usr/local/lib/python3.6/dist-packages/keras/optimizers.py:793: The name tf.train.Optimizer is deprecated. Please use tf.compat.v1.train.Optimizer instead.\n",
            "\n",
            "WARNING:tensorflow:From /usr/local/lib/python3.6/dist-packages/keras/backend/tensorflow_backend.py:3576: The name tf.log is deprecated. Please use tf.math.log instead.\n",
            "\n",
            "WARNING:tensorflow:From /usr/local/lib/python3.6/dist-packages/tensorflow_core/python/ops/math_grad.py:1424: where (from tensorflow.python.ops.array_ops) is deprecated and will be removed in a future version.\n",
            "Instructions for updating:\n",
            "Use tf.where in 2.0, which has the same broadcast rule as np.where\n",
            "WARNING:tensorflow:From /usr/local/lib/python3.6/dist-packages/keras/backend/tensorflow_backend.py:1033: The name tf.assign_add is deprecated. Please use tf.compat.v1.assign_add instead.\n",
            "\n",
            "WARNING:tensorflow:From /usr/local/lib/python3.6/dist-packages/keras/backend/tensorflow_backend.py:1020: The name tf.assign is deprecated. Please use tf.compat.v1.assign instead.\n",
            "\n",
            "WARNING:tensorflow:From /usr/local/lib/python3.6/dist-packages/keras/backend/tensorflow_backend.py:3005: The name tf.Session is deprecated. Please use tf.compat.v1.Session instead.\n",
            "\n",
            "Train on 10000 samples, validate on 2000 samples\n",
            "Epoch 1/90\n",
            "WARNING:tensorflow:From /usr/local/lib/python3.6/dist-packages/keras/backend/tensorflow_backend.py:190: The name tf.get_default_session is deprecated. Please use tf.compat.v1.get_default_session instead.\n",
            "\n",
            "WARNING:tensorflow:From /usr/local/lib/python3.6/dist-packages/keras/backend/tensorflow_backend.py:197: The name tf.ConfigProto is deprecated. Please use tf.compat.v1.ConfigProto instead.\n",
            "\n",
            "WARNING:tensorflow:From /usr/local/lib/python3.6/dist-packages/keras/backend/tensorflow_backend.py:207: The name tf.global_variables is deprecated. Please use tf.compat.v1.global_variables instead.\n",
            "\n",
            "WARNING:tensorflow:From /usr/local/lib/python3.6/dist-packages/keras/backend/tensorflow_backend.py:216: The name tf.is_variable_initialized is deprecated. Please use tf.compat.v1.is_variable_initialized instead.\n",
            "\n",
            "WARNING:tensorflow:From /usr/local/lib/python3.6/dist-packages/keras/backend/tensorflow_backend.py:223: The name tf.variables_initializer is deprecated. Please use tf.compat.v1.variables_initializer instead.\n",
            "\n",
            "10000/10000 [==============================] - 11s 1ms/step - loss: 2.0814 - acc: 0.2501 - val_loss: 1.6559 - val_acc: 0.4115\n",
            "Epoch 2/90\n",
            "10000/10000 [==============================] - 4s 366us/step - loss: 1.7175 - acc: 0.3801 - val_loss: 1.4679 - val_acc: 0.4905\n",
            "Epoch 3/90\n",
            "10000/10000 [==============================] - 4s 365us/step - loss: 1.5549 - acc: 0.4579 - val_loss: 1.2820 - val_acc: 0.5550\n",
            "Epoch 4/90\n",
            "10000/10000 [==============================] - 4s 371us/step - loss: 1.4417 - acc: 0.5013 - val_loss: 1.3244 - val_acc: 0.5485\n",
            "Epoch 5/90\n",
            "10000/10000 [==============================] - 4s 367us/step - loss: 1.3508 - acc: 0.5345 - val_loss: 1.2235 - val_acc: 0.5865\n",
            "Epoch 6/90\n",
            "10000/10000 [==============================] - 4s 362us/step - loss: 1.2843 - acc: 0.5590 - val_loss: 1.0796 - val_acc: 0.6395\n",
            "Epoch 7/90\n",
            "10000/10000 [==============================] - 4s 367us/step - loss: 1.1979 - acc: 0.5883 - val_loss: 1.0761 - val_acc: 0.6415\n",
            "Epoch 8/90\n",
            "10000/10000 [==============================] - 4s 367us/step - loss: 1.1558 - acc: 0.6056 - val_loss: 1.0326 - val_acc: 0.6580\n",
            "Epoch 9/90\n",
            "10000/10000 [==============================] - 4s 363us/step - loss: 1.0907 - acc: 0.6250 - val_loss: 0.9301 - val_acc: 0.6975\n",
            "Epoch 10/90\n",
            "10000/10000 [==============================] - 4s 367us/step - loss: 1.0714 - acc: 0.6375 - val_loss: 0.9588 - val_acc: 0.6760\n",
            "Epoch 11/90\n",
            "10000/10000 [==============================] - 4s 367us/step - loss: 1.0411 - acc: 0.6485 - val_loss: 0.9229 - val_acc: 0.7045\n",
            "Epoch 12/90\n",
            "10000/10000 [==============================] - 4s 373us/step - loss: 0.9749 - acc: 0.6668 - val_loss: 0.9348 - val_acc: 0.6865\n",
            "Epoch 13/90\n",
            "10000/10000 [==============================] - 4s 378us/step - loss: 0.9430 - acc: 0.6803 - val_loss: 0.9187 - val_acc: 0.7105\n",
            "Epoch 14/90\n",
            "10000/10000 [==============================] - 4s 375us/step - loss: 0.9451 - acc: 0.6779 - val_loss: 0.9213 - val_acc: 0.7170\n",
            "Epoch 15/90\n",
            "10000/10000 [==============================] - 4s 368us/step - loss: 0.8934 - acc: 0.6956 - val_loss: 0.8519 - val_acc: 0.7335\n",
            "Epoch 16/90\n",
            "10000/10000 [==============================] - 4s 368us/step - loss: 0.8738 - acc: 0.7028 - val_loss: 0.9237 - val_acc: 0.7135\n",
            "Epoch 17/90\n",
            "10000/10000 [==============================] - 4s 365us/step - loss: 0.8635 - acc: 0.7072 - val_loss: 0.8944 - val_acc: 0.7350\n",
            "Epoch 18/90\n",
            "10000/10000 [==============================] - 4s 367us/step - loss: 0.8857 - acc: 0.6962 - val_loss: 0.8902 - val_acc: 0.7165\n",
            "Epoch 19/90\n",
            "10000/10000 [==============================] - 4s 367us/step - loss: 0.8457 - acc: 0.7135 - val_loss: 0.8721 - val_acc: 0.7290\n",
            "Epoch 20/90\n",
            "10000/10000 [==============================] - 4s 367us/step - loss: 0.7963 - acc: 0.7278 - val_loss: 0.8888 - val_acc: 0.7200\n",
            "Epoch 21/90\n",
            "10000/10000 [==============================] - 4s 365us/step - loss: 0.7849 - acc: 0.7289 - val_loss: 0.8842 - val_acc: 0.7300\n",
            "Epoch 22/90\n",
            "10000/10000 [==============================] - 4s 366us/step - loss: 0.7565 - acc: 0.7474 - val_loss: 0.8827 - val_acc: 0.7225\n",
            "Epoch 23/90\n",
            "10000/10000 [==============================] - 4s 366us/step - loss: 0.7418 - acc: 0.7479 - val_loss: 0.8624 - val_acc: 0.7330\n",
            "Epoch 24/90\n",
            "10000/10000 [==============================] - 4s 369us/step - loss: 0.7296 - acc: 0.7464 - val_loss: 0.8142 - val_acc: 0.7520\n",
            "Epoch 25/90\n",
            "10000/10000 [==============================] - 4s 363us/step - loss: 0.6993 - acc: 0.7611 - val_loss: 0.8231 - val_acc: 0.7470\n",
            "Epoch 26/90\n",
            "10000/10000 [==============================] - 4s 367us/step - loss: 0.6995 - acc: 0.7616 - val_loss: 0.8602 - val_acc: 0.7335\n",
            "Epoch 27/90\n",
            "10000/10000 [==============================] - 4s 365us/step - loss: 0.6801 - acc: 0.7675 - val_loss: 0.8835 - val_acc: 0.7380\n",
            "Epoch 28/90\n",
            "10000/10000 [==============================] - 4s 367us/step - loss: 0.6647 - acc: 0.7721 - val_loss: 0.8642 - val_acc: 0.7370\n",
            "Epoch 29/90\n",
            "10000/10000 [==============================] - 4s 365us/step - loss: 0.6844 - acc: 0.7642 - val_loss: 0.9122 - val_acc: 0.7260\n",
            "Epoch 30/90\n",
            "10000/10000 [==============================] - 4s 368us/step - loss: 0.6644 - acc: 0.7775 - val_loss: 0.8160 - val_acc: 0.7625\n",
            "Epoch 31/90\n",
            "10000/10000 [==============================] - 4s 369us/step - loss: 0.6350 - acc: 0.7815 - val_loss: 0.9605 - val_acc: 0.7240\n",
            "Epoch 32/90\n",
            "10000/10000 [==============================] - 4s 365us/step - loss: 0.6053 - acc: 0.7887 - val_loss: 0.8643 - val_acc: 0.7550\n",
            "Epoch 33/90\n",
            "10000/10000 [==============================] - 4s 367us/step - loss: 0.5949 - acc: 0.7964 - val_loss: 0.8494 - val_acc: 0.7560\n",
            "Epoch 34/90\n",
            "10000/10000 [==============================] - 4s 367us/step - loss: 0.5884 - acc: 0.7972 - val_loss: 0.8393 - val_acc: 0.7510\n",
            "Epoch 35/90\n",
            "10000/10000 [==============================] - 4s 365us/step - loss: 0.5845 - acc: 0.7962 - val_loss: 0.8430 - val_acc: 0.7475\n",
            "Epoch 36/90\n",
            "10000/10000 [==============================] - 4s 367us/step - loss: 0.5784 - acc: 0.8028 - val_loss: 0.8666 - val_acc: 0.7530\n",
            "Epoch 37/90\n",
            "10000/10000 [==============================] - 4s 365us/step - loss: 0.5701 - acc: 0.8029 - val_loss: 0.8710 - val_acc: 0.7440\n",
            "Epoch 38/90\n",
            "10000/10000 [==============================] - 4s 367us/step - loss: 0.5707 - acc: 0.8067 - val_loss: 0.8417 - val_acc: 0.7645\n",
            "Epoch 39/90\n",
            "10000/10000 [==============================] - 4s 364us/step - loss: 0.5356 - acc: 0.8193 - val_loss: 0.9103 - val_acc: 0.7325\n",
            "Epoch 40/90\n",
            "10000/10000 [==============================] - 4s 367us/step - loss: 0.5331 - acc: 0.8121 - val_loss: 0.8722 - val_acc: 0.7570\n",
            "Epoch 41/90\n",
            "10000/10000 [==============================] - 4s 365us/step - loss: 0.5311 - acc: 0.8158 - val_loss: 0.9254 - val_acc: 0.7485\n",
            "Epoch 42/90\n",
            "10000/10000 [==============================] - 4s 366us/step - loss: 0.5105 - acc: 0.8227 - val_loss: 0.8065 - val_acc: 0.7660\n",
            "Epoch 43/90\n",
            "10000/10000 [==============================] - 4s 370us/step - loss: 0.5144 - acc: 0.8258 - val_loss: 0.8527 - val_acc: 0.7615\n",
            "Epoch 44/90\n",
            "10000/10000 [==============================] - 4s 363us/step - loss: 0.4960 - acc: 0.8258 - val_loss: 0.9295 - val_acc: 0.7565\n",
            "Epoch 45/90\n",
            "10000/10000 [==============================] - 4s 366us/step - loss: 0.4929 - acc: 0.8321 - val_loss: 0.8236 - val_acc: 0.7630\n",
            "Epoch 46/90\n",
            "10000/10000 [==============================] - 4s 368us/step - loss: 0.5056 - acc: 0.8266 - val_loss: 0.8973 - val_acc: 0.7400\n",
            "Epoch 47/90\n",
            "10000/10000 [==============================] - 4s 365us/step - loss: 0.4904 - acc: 0.8300 - val_loss: 0.7988 - val_acc: 0.7715\n",
            "Epoch 48/90\n",
            "10000/10000 [==============================] - 4s 366us/step - loss: 0.4853 - acc: 0.8368 - val_loss: 0.8774 - val_acc: 0.7465\n",
            "Epoch 49/90\n",
            "10000/10000 [==============================] - 4s 369us/step - loss: 0.4907 - acc: 0.8343 - val_loss: 0.8371 - val_acc: 0.7680\n",
            "Epoch 50/90\n",
            "10000/10000 [==============================] - 4s 372us/step - loss: 0.4611 - acc: 0.8411 - val_loss: 0.9413 - val_acc: 0.7515\n",
            "Epoch 51/90\n",
            "10000/10000 [==============================] - 4s 366us/step - loss: 0.4632 - acc: 0.8413 - val_loss: 0.8638 - val_acc: 0.7635\n",
            "Epoch 52/90\n",
            "10000/10000 [==============================] - 4s 363us/step - loss: 0.4513 - acc: 0.8466 - val_loss: 0.8770 - val_acc: 0.7715\n",
            "Epoch 53/90\n",
            "10000/10000 [==============================] - 4s 367us/step - loss: 0.4813 - acc: 0.8331 - val_loss: 0.8940 - val_acc: 0.7545\n",
            "Epoch 54/90\n",
            "10000/10000 [==============================] - 4s 362us/step - loss: 0.4482 - acc: 0.8443 - val_loss: 0.8752 - val_acc: 0.7700\n",
            "Epoch 55/90\n",
            "10000/10000 [==============================] - 4s 366us/step - loss: 0.4690 - acc: 0.8411 - val_loss: 0.8838 - val_acc: 0.7515\n",
            "Epoch 56/90\n",
            "10000/10000 [==============================] - 4s 368us/step - loss: 0.4341 - acc: 0.8511 - val_loss: 0.8531 - val_acc: 0.7645\n",
            "Epoch 57/90\n",
            "10000/10000 [==============================] - 4s 367us/step - loss: 0.4306 - acc: 0.8568 - val_loss: 0.8647 - val_acc: 0.7530\n",
            "Epoch 58/90\n",
            "10000/10000 [==============================] - 4s 366us/step - loss: 0.4195 - acc: 0.8578 - val_loss: 0.8925 - val_acc: 0.7590\n",
            "Epoch 59/90\n",
            "10000/10000 [==============================] - 4s 367us/step - loss: 0.4495 - acc: 0.8439 - val_loss: 0.8699 - val_acc: 0.7715\n",
            "Epoch 60/90\n",
            "10000/10000 [==============================] - 4s 368us/step - loss: 0.4283 - acc: 0.8514 - val_loss: 0.8942 - val_acc: 0.7710\n",
            "Epoch 61/90\n",
            "10000/10000 [==============================] - 4s 364us/step - loss: 0.4150 - acc: 0.8599 - val_loss: 0.8590 - val_acc: 0.7670\n",
            "Epoch 62/90\n",
            "10000/10000 [==============================] - 4s 364us/step - loss: 0.4052 - acc: 0.8624 - val_loss: 0.8486 - val_acc: 0.7755\n",
            "Epoch 63/90\n",
            "10000/10000 [==============================] - 4s 366us/step - loss: 0.4137 - acc: 0.8565 - val_loss: 0.9904 - val_acc: 0.7635\n",
            "Epoch 64/90\n",
            "10000/10000 [==============================] - 4s 366us/step - loss: 0.4037 - acc: 0.8573 - val_loss: 0.9787 - val_acc: 0.7545\n",
            "Epoch 65/90\n",
            "10000/10000 [==============================] - 4s 368us/step - loss: 0.4224 - acc: 0.8561 - val_loss: 0.8955 - val_acc: 0.7650\n",
            "Epoch 66/90\n",
            "10000/10000 [==============================] - 4s 369us/step - loss: 0.4133 - acc: 0.8613 - val_loss: 0.9689 - val_acc: 0.7525\n",
            "Epoch 67/90\n",
            "10000/10000 [==============================] - 4s 365us/step - loss: 0.4090 - acc: 0.8596 - val_loss: 0.9078 - val_acc: 0.7790\n",
            "Epoch 00067: early stopping\n"
          ],
          "name": "stdout"
        }
      ]
    },
    {
      "cell_type": "code",
      "metadata": {
        "id": "IFuzjYQD7cyp",
        "colab_type": "code",
        "outputId": "55031038-d544-4cc8-a080-7c2e1b3202ef",
        "colab": {
          "base_uri": "https://localhost:8080/",
          "height": 782
        }
      },
      "source": [
        "plt.figure(figsize=(12,8))\n",
        "plt.plot(hist.history['acc'])\n",
        "plt.plot(hist.history['val_acc'])\n",
        "plt.legend(['acc','val_acc'])\n",
        "plt.show()\n",
        "\n",
        "plt.plot(hist.history['loss'])\n",
        "plt.plot(hist.history['val_loss'])\n",
        "plt.legend(['loss','val_loss'])\n",
        "plt.show()\n",
        "score = model.evaluate(X_test, Y_test)\n",
        "print('Test loss:', score[0])\n",
        "print('Test accuracy:', score[1])"
      ],
      "execution_count": 0,
      "outputs": [
        {
          "output_type": "display_data",
          "data": {
            "image/png": "[encoded data removed]",
            "text/plain": [
              "<Figure size 864x576 with 1 Axes>"
            ]
          },
          "metadata": {
            "tags": []
          }
        },
        {
          "output_type": "display_data",
          "data": {
            "image/png": "[encoded data removed]",
            "text/plain": [
              "<Figure size 432x288 with 1 Axes>"
            ]
          },
          "metadata": {
            "tags": []
          }
        },
        {
          "output_type": "stream",
          "text": [
            "2000/2000 [==============================] - 0s 141us/step\n",
            "Test loss: 0.9538973054885864\n",
            "Test accuracy: 0.753\n"
          ],
          "name": "stdout"
        }
      ]
    },
    {
      "cell_type": "code",
      "metadata": {
        "id": "FFd6rEIOQu1i",
        "colab_type": "code",
        "outputId": "30c5636b-231b-4a52-e946-342d256ac2e0",
        "colab": {
          "base_uri": "https://localhost:8080/",
          "height": 751
        }
      },
      "source": [
        "from sklearn.metrics import classification_report, confusion_matrix\n",
        "import seaborn as sn\n",
        "\n",
        "y_pred = model.predict_classes(X_test)\n",
        "Y_test = np.argmax(Y_test, axis=1)\n",
        "\n",
        "con_mat = confusion_matrix(Y_test, y_pred)\n",
        "\n",
        "plt.figure(figsize = (10,7))\n",
        "ax = sn.heatmap(con_mat, annot=True, fmt=\"d\", xticklabels=genres, yticklabels=genres)\n",
        "bottom, top = ax.get_ylim()\n",
        "ax.set_ylim(bottom + 0.5, top - 0.5)\n",
        "\n",
        "plt.show()\n",
        "print('\\n')\n",
        "print(classification_report(Y_test, y_pred))"
      ],
      "execution_count": 0,
      "outputs": [
        {
          "output_type": "display_data",
          "data": {
            "image/png": "[encoded data removed]",
            "text/plain": [
              "<Figure size 720x504 with 2 Axes>"
            ]
          },
          "metadata": {
            "tags": []
          }
        },
        {
          "output_type": "stream",
          "text": [
            "\n",
            "\n",
            "              precision    recall  f1-score   support\n",
            "\n",
            "           0       0.75      0.66      0.70       202\n",
            "           1       0.88      0.91      0.90       193\n",
            "           2       0.62      0.74      0.67       210\n",
            "           3       0.72      0.77      0.75       201\n",
            "           4       0.83      0.88      0.86       209\n",
            "           5       0.74      0.80      0.77       178\n",
            "           6       0.78      0.87      0.82       194\n",
            "           7       0.84      0.70      0.76       197\n",
            "           8       0.86      0.74      0.79       212\n",
            "           9       0.55      0.50      0.52       204\n",
            "\n",
            "    accuracy                           0.75      2000\n",
            "   macro avg       0.76      0.75      0.75      2000\n",
            "weighted avg       0.76      0.75      0.75      2000\n",
            "\n"
          ],
          "name": "stdout"
        }
      ]
    },
    {
      "cell_type": "code",
      "metadata": {
        "id": "aNEYby14oTlS",
        "colab_type": "code",
        "colab": {}
      },
      "source": [
        "import pickle\n",
        "filename = 'finalized_model.sav'\n",
        "pickle.dump(model, open(filename, 'wb'))"
      ],
      "execution_count": 0,
      "outputs": []
    }
  ]
}