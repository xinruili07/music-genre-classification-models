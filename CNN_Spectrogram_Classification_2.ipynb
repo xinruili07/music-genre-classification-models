{
  "nbformat": 4,
  "nbformat_minor": 0,
  "metadata": {
    "kernelspec": {
      "name": "python3",
      "display_name": "Python 3"
    },
    "language_info": {
      "codemirror_mode": {
        "name": "ipython",
        "version": 3
      },
      "file_extension": ".py",
      "mimetype": "text/x-python",
      "name": "python",
      "nbconvert_exporter": "python",
      "pygments_lexer": "ipython3",
      "version": "3.7.2"
    },
    "colab": {
      "name": "CNN_Spectrogram_Classification.ipynb",
      "provenance": [],
      "include_colab_link": true
    },
    "accelerator": "GPU"
  },
  "cells": [
    {
      "cell_type": "markdown",
      "metadata": {
        "id": "view-in-github",
        "colab_type": "text"
      },
      "source": [
        "<a href=\"https://colab.research.google.com/github/xinruili07/MusicGenreClassifier/blob/master/CNN_Spectrogram_Classification_2.ipynb\" target=\"_parent\"><img src=\"https://colab.research.google.com/assets/colab-badge.svg\" alt=\"Open In Colab\"/></a>"
      ]
    },
    {
      "cell_type": "code",
      "metadata": {
        "id": "xGplgJ0UWgfw",
        "colab_type": "code",
        "outputId": "0e56684d-964f-44e8-ce4e-2d6594636038",
        "colab": {
          "base_uri": "https://localhost:8080/",
          "height": 85
        }
      },
      "source": [
        "!mkdir genres\n",
        "!unzip -q \"/content/genres.zip\""
      ],
      "execution_count": 23,
      "outputs": [
        {
          "output_type": "stream",
          "text": [
            "mkdir: cannot create directory ‘genres’: File exists\n",
            "replace genres/pop/pop.00080.au? [y]es, [n]o, [A]ll, [N]one, [r]ename: n\n",
            "replace __MACOSX/genres/pop/._pop.00080.au? [y]es, [n]o, [A]ll, [N]one, [r]ename: n\n",
            "replace genres/pop/pop.00022.au? [y]es, [n]o, [A]ll, [N]one, [r]ename: "
          ],
          "name": "stdout"
        }
      ]
    },
    {
      "cell_type": "code",
      "metadata": {
        "id": "UICIkcpX7cyY",
        "colab_type": "code",
        "colab": {}
      },
      "source": [
        "### Importing Libraries\n",
        "\n",
        "import pandas as pd\n",
        "import numpy as np\n",
        "import librosa\n",
        "import matplotlib.pyplot as plt\n",
        "\n",
        "import os\n",
        "from PIL import Image\n",
        "from pathlib import Path\n",
        "import csv\n",
        "\n",
        "from sklearn.model_selection import train_test_split\n",
        "from sklearn.preprocessing import LabelEncoder, StandardScaler\n",
        "\n",
        "from sklearn.linear_model import LinearRegression\n",
        "from sklearn.svm import SVC\n",
        "from sklearn.ensemble import RandomForestClassifier\n",
        "\n",
        "import tensorflow as tf\n",
        "import keras"
      ],
      "execution_count": 0,
      "outputs": []
    },
    {
      "cell_type": "code",
      "metadata": {
        "scrolled": true,
        "id": "EJsM9K3C7cyd",
        "colab_type": "code",
        "outputId": "4044fdbe-7490-4539-975a-e9576af06850",
        "colab": {
          "base_uri": "https://localhost:8080/",
          "height": 34
        }
      },
      "source": [
        "import librosa.display\n",
        "\n",
        "songname = f'./genres/blues/blues.00000.au'\n",
        "y, sr = librosa.load(songname, mono=True, duration=2, offset=0)\n",
        "ps = librosa.feature.melspectrogram(y=y, sr=sr, hop_length = 256, n_fft = 512, n_mels=128)\n",
        "ps = librosa.power_to_db(ps**2)\n",
        "ps.shape"
      ],
      "execution_count": 25,
      "outputs": [
        {
          "output_type": "execute_result",
          "data": {
            "text/plain": [
              "(128, 173)"
            ]
          },
          "metadata": {
            "tags": []
          },
          "execution_count": 25
        }
      ]
    },
    {
      "cell_type": "code",
      "metadata": {
        "id": "mxHZlIJw7cyf",
        "colab_type": "code",
        "colab": {}
      },
      "source": [
        "dataset = []\n",
        "genres = {'blues': 0, 'classical': 1, 'country': 2, 'disco': 3, 'hiphop': 4, \n",
        "        'jazz': 5, 'metal': 6, 'pop': 7, 'reggae': 8, 'rock': 9}\n",
        "\n",
        "for genre, genre_number in genres.items():\n",
        "    for filename in os.listdir(f'./genres/{genre}'):\n",
        "        songname = f'./genres/{genre}/{filename}'\n",
        "        for index in range(8):\n",
        "            y, sr = librosa.load(songname, mono=True, duration=2, offset=index*3)\n",
        "            ps = librosa.feature.melspectrogram(y=y, sr=sr, hop_length = 256, n_fft = 512, n_mels=64)\n",
        "            ps = librosa.power_to_db(ps**2)\n",
        "            dataset.append( (ps, genre_number) )               "
      ],
      "execution_count": 0,
      "outputs": []
    },
    {
      "cell_type": "code",
      "metadata": {
        "id": "6t7nvd0F7cyh",
        "colab_type": "code",
        "outputId": "b11e6a42-08e5-47f4-fbe3-e6c88b1e22e4",
        "colab": {
          "base_uri": "https://localhost:8080/",
          "height": 34
        }
      },
      "source": [
        "print(len(dataset))\n",
        "\n",
        "import random\n",
        "\n",
        "random.shuffle(dataset)\n",
        "\n",
        "train = dataset[:6000]\n",
        "valid = dataset[6000:7000]\n",
        "test = dataset[7000:]\n",
        "\n",
        "X_train, Y_train = zip(*train)\n",
        "X_valid, Y_valid = zip(*valid)\n",
        "X_test, Y_test = zip(*test)\n",
        "\n",
        "# Reshape for CNN input\n",
        "X_train = np.array([x.reshape( (64, 173, 1) ) for x in X_train])\n",
        "X_valid = np.array([x.reshape( (64, 173, 1) ) for x in X_valid])\n",
        "X_test = np.array([x.reshape( (64, 173, 1) ) for x in X_test])\n",
        "\n",
        "# One-Hot encoding for classes\n",
        "Y_train = np.array(keras.utils.to_categorical(Y_train, 10))\n",
        "Y_valid = np.array(keras.utils.to_categorical(Y_valid, 10))\n",
        "Y_test = np.array(keras.utils.to_categorical(Y_test, 10))\n"
      ],
      "execution_count": 27,
      "outputs": [
        {
          "output_type": "stream",
          "text": [
            "8000\n"
          ],
          "name": "stdout"
        }
      ]
    },
    {
      "cell_type": "code",
      "metadata": {
        "id": "73ZT_KJq7cyk",
        "colab_type": "code",
        "outputId": "f2fb6f83-5a4b-4eba-bff5-605430a9932f",
        "colab": {
          "base_uri": "https://localhost:8080/",
          "height": 697
        }
      },
      "source": [
        "from keras.models import Sequential\n",
        "from keras.layers import Dense\n",
        "from keras.layers import Activation\n",
        "from keras.layers import Conv2D\n",
        "from keras.layers import MaxPooling2D\n",
        "from keras.layers import Dropout\n",
        "from keras.layers import Flatten\n",
        "from keras.layers import BatchNormalization\n",
        "from keras.layers import AveragePooling2D\n",
        "\n",
        "from keras import regularizers\n",
        "'''\n",
        "model = Sequential()\n",
        "input_shape=(64, 173, 1)\n",
        "model.add(Conv2D(64, kernel_size=(4, 4),\n",
        "                     activation='relu', #kernel_regularizer=regularizers.l2(0.04),\n",
        "                     input_shape=input_shape))\n",
        "model.add(BatchNormalization())\n",
        "model.add(MaxPooling2D(pool_size=(2, 4)))\n",
        "model.add(Conv2D(64, (3, 5), activation='relu'\n",
        "                    , kernel_regularizer=regularizers.l2(0.04)\n",
        "                    ))\n",
        "model.add(MaxPooling2D(pool_size=(2, 2)))\n",
        "model.add(Dropout(0.2))\n",
        "model.add(Conv2D(64, (2, 2), activation='relu'\n",
        "       # , kernel_regularizer=regularizers.l2(0.04)\n",
        "        ))\n",
        "model.add(BatchNormalization())\n",
        "model.add(MaxPooling2D(pool_size=(2, 2)))\n",
        "model.add(Dropout(0.2))\n",
        "model.add(Flatten())\n",
        "model.add(Dense(64, activation='relu', kernel_regularizer=regularizers.l2(0.04)))\n",
        "model.add(Dropout(0.5))\n",
        "model.add(Dense(32, activation='relu', kernel_regularizer=regularizers.l2(0.04)))\n",
        "model.add(Dense(10, activation='softmax'))\n",
        "\n",
        "input_shape=(64, 173, 1)\n",
        "model = Sequential()\n",
        "model.add(Conv2D(10, kernel_size=(3,3), strides=(1,1),\n",
        "                 activation='relu', input_shape = input_shape))\n",
        "model.add(MaxPooling2D(pool_size = (2,2), strides=(2,2)))\n",
        "\n",
        "model.add(Conv2D(20, kernel_size=(3,3), strides=(1,1),\n",
        "                 activation='relu', input_shape = input_shape))\n",
        "model.add(MaxPooling2D(pool_size = (2,2), strides=(2,2)))\n",
        "\n",
        "model.add(Conv2D(40, kernel_size=(3,3), strides=(1,1),\n",
        "                 activation='relu', input_shape = input_shape))\n",
        "model.add(MaxPooling2D(pool_size = (2,2), strides=(2,2)))\n",
        "\n",
        "model.add(Conv2D(80, kernel_size=(3,3), strides=(1,1),\n",
        "                 activation='relu', input_shape = input_shape))\n",
        "model.add(MaxPooling2D(pool_size = (2,2), strides=(2,2)))\n",
        "\n",
        "model.add(Flatten())\n",
        "model.add(Dense(10, activation='softmax'))\n",
        "model.summary()\n",
        "'''\n",
        "\n",
        "model = Sequential()\n",
        "input_shape=(64, 173, 1)\n",
        "\n",
        "model.add(Conv2D(24, (5, 5), strides=(1, 1), input_shape=input_shape))\n",
        "model.add(AveragePooling2D((2, 2), strides=(2,2)))\n",
        "model.add(Activation('relu'))\n",
        "\n",
        "model.add(Conv2D(48, (5, 5), padding=\"same\"))\n",
        "model.add(AveragePooling2D((2, 2), strides=(2,2)))\n",
        "model.add(Activation('relu'))\n",
        "\n",
        "model.add(Conv2D(48, (5, 5), padding=\"same\"))\n",
        "model.add(AveragePooling2D((2, 2), strides=(2,2)))\n",
        "model.add(Activation('relu'))\n",
        "\n",
        "model.add(Flatten())\n",
        "model.add(Dropout(rate=0.5))\n",
        "\n",
        "model.add(Dense(64))\n",
        "model.add(Activation('relu'))\n",
        "model.add(Dropout(rate=0.5))\n",
        "\n",
        "model.add(Dense(10))\n",
        "model.add(Activation('softmax'))\n",
        "model.summary()"
      ],
      "execution_count": 62,
      "outputs": [
        {
          "output_type": "stream",
          "text": [
            "Model: \"sequential_10\"\n",
            "_________________________________________________________________\n",
            "Layer (type)                 Output Shape              Param #   \n",
            "=================================================================\n",
            "conv2d_31 (Conv2D)           (None, 60, 169, 24)       624       \n",
            "_________________________________________________________________\n",
            "average_pooling2d_13 (Averag (None, 30, 84, 24)        0         \n",
            "_________________________________________________________________\n",
            "activation_21 (Activation)   (None, 30, 84, 24)        0         \n",
            "_________________________________________________________________\n",
            "conv2d_32 (Conv2D)           (None, 30, 84, 48)        28848     \n",
            "_________________________________________________________________\n",
            "average_pooling2d_14 (Averag (None, 15, 42, 48)        0         \n",
            "_________________________________________________________________\n",
            "activation_22 (Activation)   (None, 15, 42, 48)        0         \n",
            "_________________________________________________________________\n",
            "conv2d_33 (Conv2D)           (None, 15, 42, 48)        57648     \n",
            "_________________________________________________________________\n",
            "average_pooling2d_15 (Averag (None, 7, 21, 48)         0         \n",
            "_________________________________________________________________\n",
            "activation_23 (Activation)   (None, 7, 21, 48)         0         \n",
            "_________________________________________________________________\n",
            "flatten_10 (Flatten)         (None, 7056)              0         \n",
            "_________________________________________________________________\n",
            "dropout_18 (Dropout)         (None, 7056)              0         \n",
            "_________________________________________________________________\n",
            "dense_18 (Dense)             (None, 64)                451648    \n",
            "_________________________________________________________________\n",
            "activation_24 (Activation)   (None, 64)                0         \n",
            "_________________________________________________________________\n",
            "dropout_19 (Dropout)         (None, 64)                0         \n",
            "_________________________________________________________________\n",
            "dense_19 (Dense)             (None, 10)                650       \n",
            "_________________________________________________________________\n",
            "activation_25 (Activation)   (None, 10)                0         \n",
            "=================================================================\n",
            "Total params: 539,418\n",
            "Trainable params: 539,418\n",
            "Non-trainable params: 0\n",
            "_________________________________________________________________\n"
          ],
          "name": "stdout"
        }
      ]
    },
    {
      "cell_type": "code",
      "metadata": {
        "id": "BOZbMpBH7cyn",
        "colab_type": "code",
        "outputId": "94a0a8d9-5b1e-409b-ccfd-8bd8ba6a28a2",
        "colab": {
          "base_uri": "https://localhost:8080/",
          "height": 1000
        }
      },
      "source": [
        "from keras.callbacks import EarlyStopping\n",
        "\n",
        "model.compile(optimizer='adam', loss='categorical_crossentropy', metrics=['accuracy'])\n",
        "\n",
        "#early_stopping = EarlyStopping(monitor='val_loss', patience=20, verbose=2)\n",
        "hist = model.fit(X_train, Y_train, epochs=90, batch_size=32, validation_data= (X_valid, Y_valid))"
      ],
      "execution_count": 63,
      "outputs": [
        {
          "output_type": "stream",
          "text": [
            "Train on 6000 samples, validate on 1000 samples\n",
            "Epoch 1/90\n",
            "6000/6000 [==============================] - 4s 741us/step - loss: 2.5857 - acc: 0.1513 - val_loss: 1.9026 - val_acc: 0.3280\n",
            "Epoch 2/90\n",
            "6000/6000 [==============================] - 2s 377us/step - loss: 1.9506 - acc: 0.2887 - val_loss: 1.7166 - val_acc: 0.3940\n",
            "Epoch 3/90\n",
            "6000/6000 [==============================] - 2s 380us/step - loss: 1.7785 - acc: 0.3600 - val_loss: 1.6843 - val_acc: 0.3930\n",
            "Epoch 4/90\n",
            "6000/6000 [==============================] - 2s 378us/step - loss: 1.6946 - acc: 0.3920 - val_loss: 1.5653 - val_acc: 0.4470\n",
            "Epoch 5/90\n",
            "6000/6000 [==============================] - 2s 376us/step - loss: 1.6363 - acc: 0.4218 - val_loss: 1.6389 - val_acc: 0.4130\n",
            "Epoch 6/90\n",
            "6000/6000 [==============================] - 2s 371us/step - loss: 1.5442 - acc: 0.4505 - val_loss: 1.4235 - val_acc: 0.5120\n",
            "Epoch 7/90\n",
            "6000/6000 [==============================] - 2s 376us/step - loss: 1.4845 - acc: 0.4750 - val_loss: 1.3477 - val_acc: 0.5490\n",
            "Epoch 8/90\n",
            "6000/6000 [==============================] - 2s 377us/step - loss: 1.4414 - acc: 0.4997 - val_loss: 1.3293 - val_acc: 0.5530\n",
            "Epoch 9/90\n",
            "6000/6000 [==============================] - 2s 374us/step - loss: 1.4028 - acc: 0.5170 - val_loss: 1.3203 - val_acc: 0.5550\n",
            "Epoch 10/90\n",
            "6000/6000 [==============================] - 2s 373us/step - loss: 1.3527 - acc: 0.5232 - val_loss: 1.2979 - val_acc: 0.5520\n",
            "Epoch 11/90\n",
            "6000/6000 [==============================] - 2s 379us/step - loss: 1.3441 - acc: 0.5317 - val_loss: 1.2536 - val_acc: 0.5660\n",
            "Epoch 12/90\n",
            "6000/6000 [==============================] - 2s 374us/step - loss: 1.2996 - acc: 0.5493 - val_loss: 1.3109 - val_acc: 0.5660\n",
            "Epoch 13/90\n",
            "6000/6000 [==============================] - 2s 377us/step - loss: 1.3271 - acc: 0.5368 - val_loss: 1.3955 - val_acc: 0.5000\n",
            "Epoch 14/90\n",
            "6000/6000 [==============================] - 2s 376us/step - loss: 1.2390 - acc: 0.5682 - val_loss: 1.2285 - val_acc: 0.5910\n",
            "Epoch 15/90\n",
            "6000/6000 [==============================] - 2s 376us/step - loss: 1.1768 - acc: 0.5918 - val_loss: 1.2651 - val_acc: 0.5690\n",
            "Epoch 16/90\n",
            "6000/6000 [==============================] - 2s 373us/step - loss: 1.3872 - acc: 0.5278 - val_loss: 1.3059 - val_acc: 0.5550\n",
            "Epoch 17/90\n",
            "6000/6000 [==============================] - 2s 370us/step - loss: 1.2314 - acc: 0.5790 - val_loss: 1.2562 - val_acc: 0.5670\n",
            "Epoch 18/90\n",
            "6000/6000 [==============================] - 2s 373us/step - loss: 1.1724 - acc: 0.5833 - val_loss: 1.2364 - val_acc: 0.5750\n",
            "Epoch 19/90\n",
            "6000/6000 [==============================] - 2s 373us/step - loss: 1.1419 - acc: 0.5987 - val_loss: 1.1773 - val_acc: 0.6050\n",
            "Epoch 20/90\n",
            "6000/6000 [==============================] - 2s 372us/step - loss: 1.0998 - acc: 0.6193 - val_loss: 1.1301 - val_acc: 0.6150\n",
            "Epoch 21/90\n",
            "6000/6000 [==============================] - 2s 374us/step - loss: 1.0716 - acc: 0.6280 - val_loss: 1.0841 - val_acc: 0.6390\n",
            "Epoch 22/90\n",
            "6000/6000 [==============================] - 2s 369us/step - loss: 1.0421 - acc: 0.6370 - val_loss: 1.1376 - val_acc: 0.6070\n",
            "Epoch 23/90\n",
            "6000/6000 [==============================] - 2s 373us/step - loss: 1.0132 - acc: 0.6483 - val_loss: 1.0753 - val_acc: 0.6500\n",
            "Epoch 24/90\n",
            "6000/6000 [==============================] - 2s 379us/step - loss: 0.9807 - acc: 0.6607 - val_loss: 1.0881 - val_acc: 0.6390\n",
            "Epoch 25/90\n",
            "6000/6000 [==============================] - 2s 381us/step - loss: 0.9727 - acc: 0.6610 - val_loss: 1.0846 - val_acc: 0.6460\n",
            "Epoch 26/90\n",
            "6000/6000 [==============================] - 2s 376us/step - loss: 0.9610 - acc: 0.6642 - val_loss: 1.1128 - val_acc: 0.6280\n",
            "Epoch 27/90\n",
            "6000/6000 [==============================] - 2s 376us/step - loss: 0.9463 - acc: 0.6693 - val_loss: 1.0538 - val_acc: 0.6480\n",
            "Epoch 28/90\n",
            "6000/6000 [==============================] - 2s 378us/step - loss: 0.8823 - acc: 0.6898 - val_loss: 1.0701 - val_acc: 0.6520\n",
            "Epoch 29/90\n",
            "6000/6000 [==============================] - 2s 375us/step - loss: 0.8792 - acc: 0.6848 - val_loss: 1.0634 - val_acc: 0.6580\n",
            "Epoch 30/90\n",
            "6000/6000 [==============================] - 2s 378us/step - loss: 0.8541 - acc: 0.7050 - val_loss: 1.0992 - val_acc: 0.6250\n",
            "Epoch 31/90\n",
            "6000/6000 [==============================] - 2s 382us/step - loss: 0.8433 - acc: 0.6987 - val_loss: 1.1092 - val_acc: 0.6500\n",
            "Epoch 32/90\n",
            "6000/6000 [==============================] - 2s 376us/step - loss: 0.8379 - acc: 0.7118 - val_loss: 1.1134 - val_acc: 0.6450\n",
            "Epoch 33/90\n",
            "6000/6000 [==============================] - 2s 379us/step - loss: 0.7788 - acc: 0.7310 - val_loss: 1.0880 - val_acc: 0.6480\n",
            "Epoch 34/90\n",
            "6000/6000 [==============================] - 2s 380us/step - loss: 0.7659 - acc: 0.7338 - val_loss: 1.1004 - val_acc: 0.6380\n",
            "Epoch 35/90\n",
            "6000/6000 [==============================] - 2s 371us/step - loss: 0.7582 - acc: 0.7350 - val_loss: 1.1212 - val_acc: 0.6520\n",
            "Epoch 36/90\n",
            "6000/6000 [==============================] - 2s 367us/step - loss: 0.7430 - acc: 0.7422 - val_loss: 1.1313 - val_acc: 0.6460\n",
            "Epoch 37/90\n",
            "6000/6000 [==============================] - 2s 381us/step - loss: 0.7305 - acc: 0.7502 - val_loss: 1.0957 - val_acc: 0.6620\n",
            "Epoch 38/90\n",
            "6000/6000 [==============================] - 2s 370us/step - loss: 0.7185 - acc: 0.7490 - val_loss: 1.1050 - val_acc: 0.6750\n",
            "Epoch 39/90\n",
            "6000/6000 [==============================] - 2s 381us/step - loss: 0.7043 - acc: 0.7502 - val_loss: 1.2092 - val_acc: 0.6340\n",
            "Epoch 40/90\n",
            "6000/6000 [==============================] - 2s 375us/step - loss: 0.6965 - acc: 0.7600 - val_loss: 1.0913 - val_acc: 0.6670\n",
            "Epoch 41/90\n",
            "6000/6000 [==============================] - 2s 376us/step - loss: 0.6688 - acc: 0.7678 - val_loss: 1.2055 - val_acc: 0.6360\n",
            "Epoch 42/90\n",
            "6000/6000 [==============================] - 2s 376us/step - loss: 0.6442 - acc: 0.7722 - val_loss: 1.1186 - val_acc: 0.6540\n",
            "Epoch 43/90\n",
            "6000/6000 [==============================] - 2s 372us/step - loss: 0.6279 - acc: 0.7797 - val_loss: 1.0738 - val_acc: 0.6540\n",
            "Epoch 44/90\n",
            "6000/6000 [==============================] - 2s 378us/step - loss: 0.6533 - acc: 0.7725 - val_loss: 1.0904 - val_acc: 0.6570\n",
            "Epoch 45/90\n",
            "6000/6000 [==============================] - 2s 371us/step - loss: 0.6094 - acc: 0.7892 - val_loss: 1.1487 - val_acc: 0.6640\n",
            "Epoch 46/90\n",
            "6000/6000 [==============================] - 2s 377us/step - loss: 0.5958 - acc: 0.7915 - val_loss: 1.0875 - val_acc: 0.6760\n",
            "Epoch 47/90\n",
            "6000/6000 [==============================] - 2s 376us/step - loss: 0.5662 - acc: 0.8058 - val_loss: 1.1619 - val_acc: 0.6400\n",
            "Epoch 48/90\n",
            "6000/6000 [==============================] - 2s 367us/step - loss: 0.5801 - acc: 0.7940 - val_loss: 1.1228 - val_acc: 0.6710\n",
            "Epoch 49/90\n",
            "6000/6000 [==============================] - 2s 369us/step - loss: 0.5540 - acc: 0.8110 - val_loss: 1.1382 - val_acc: 0.6400\n",
            "Epoch 50/90\n",
            "6000/6000 [==============================] - 2s 370us/step - loss: 0.5693 - acc: 0.7982 - val_loss: 1.2167 - val_acc: 0.6680\n",
            "Epoch 51/90\n",
            "6000/6000 [==============================] - 2s 375us/step - loss: 0.5400 - acc: 0.8118 - val_loss: 1.1612 - val_acc: 0.6700\n",
            "Epoch 52/90\n",
            "6000/6000 [==============================] - 2s 374us/step - loss: 0.5246 - acc: 0.8222 - val_loss: 1.2117 - val_acc: 0.6700\n",
            "Epoch 53/90\n",
            "6000/6000 [==============================] - 2s 378us/step - loss: 0.5220 - acc: 0.8185 - val_loss: 1.1136 - val_acc: 0.6620\n",
            "Epoch 54/90\n",
            "6000/6000 [==============================] - 2s 374us/step - loss: 0.5187 - acc: 0.8168 - val_loss: 1.2033 - val_acc: 0.6780\n",
            "Epoch 55/90\n",
            "6000/6000 [==============================] - 2s 371us/step - loss: 0.5266 - acc: 0.8178 - val_loss: 1.2119 - val_acc: 0.6760\n",
            "Epoch 56/90\n",
            "6000/6000 [==============================] - 2s 374us/step - loss: 0.4937 - acc: 0.8262 - val_loss: 1.2147 - val_acc: 0.6700\n",
            "Epoch 57/90\n",
            "6000/6000 [==============================] - 2s 375us/step - loss: 0.5244 - acc: 0.8205 - val_loss: 1.1968 - val_acc: 0.6760\n",
            "Epoch 58/90\n",
            "6000/6000 [==============================] - 2s 379us/step - loss: 0.5484 - acc: 0.8120 - val_loss: 1.1761 - val_acc: 0.6660\n",
            "Epoch 59/90\n",
            "6000/6000 [==============================] - 2s 371us/step - loss: 0.4840 - acc: 0.8332 - val_loss: 1.1234 - val_acc: 0.6660\n",
            "Epoch 60/90\n",
            "6000/6000 [==============================] - 2s 372us/step - loss: 0.4648 - acc: 0.8345 - val_loss: 1.2098 - val_acc: 0.6690\n",
            "Epoch 61/90\n",
            "6000/6000 [==============================] - 2s 373us/step - loss: 0.4725 - acc: 0.8350 - val_loss: 1.2384 - val_acc: 0.6550\n",
            "Epoch 62/90\n",
            "6000/6000 [==============================] - 2s 371us/step - loss: 0.4789 - acc: 0.8317 - val_loss: 1.4179 - val_acc: 0.6610\n",
            "Epoch 63/90\n",
            "6000/6000 [==============================] - 2s 374us/step - loss: 0.4497 - acc: 0.8420 - val_loss: 1.3147 - val_acc: 0.6850\n",
            "Epoch 64/90\n",
            "6000/6000 [==============================] - 2s 371us/step - loss: 0.4533 - acc: 0.8455 - val_loss: 1.2101 - val_acc: 0.6640\n",
            "Epoch 65/90\n",
            "6000/6000 [==============================] - 2s 380us/step - loss: 0.4264 - acc: 0.8573 - val_loss: 1.4904 - val_acc: 0.6550\n",
            "Epoch 66/90\n",
            "6000/6000 [==============================] - 2s 378us/step - loss: 0.4345 - acc: 0.8523 - val_loss: 1.1944 - val_acc: 0.6740\n",
            "Epoch 67/90\n",
            "6000/6000 [==============================] - 2s 374us/step - loss: 0.4192 - acc: 0.8572 - val_loss: 1.3273 - val_acc: 0.6580\n",
            "Epoch 68/90\n",
            "6000/6000 [==============================] - 2s 372us/step - loss: 0.4297 - acc: 0.8517 - val_loss: 1.2547 - val_acc: 0.6750\n",
            "Epoch 69/90\n",
            "6000/6000 [==============================] - 2s 373us/step - loss: 0.4417 - acc: 0.8423 - val_loss: 1.2274 - val_acc: 0.6750\n",
            "Epoch 70/90\n",
            "6000/6000 [==============================] - 2s 379us/step - loss: 0.4078 - acc: 0.8572 - val_loss: 1.3435 - val_acc: 0.6610\n",
            "Epoch 71/90\n",
            "6000/6000 [==============================] - 2s 377us/step - loss: 0.4272 - acc: 0.8595 - val_loss: 1.2320 - val_acc: 0.6650\n",
            "Epoch 72/90\n",
            "6000/6000 [==============================] - 2s 371us/step - loss: 0.6094 - acc: 0.8013 - val_loss: 1.2639 - val_acc: 0.6590\n",
            "Epoch 73/90\n",
            "6000/6000 [==============================] - 2s 369us/step - loss: 0.4105 - acc: 0.8543 - val_loss: 1.2901 - val_acc: 0.6790\n",
            "Epoch 74/90\n",
            "6000/6000 [==============================] - 2s 375us/step - loss: 0.4019 - acc: 0.8612 - val_loss: 1.2014 - val_acc: 0.6880\n",
            "Epoch 75/90\n",
            "6000/6000 [==============================] - 2s 372us/step - loss: 0.3720 - acc: 0.8670 - val_loss: 1.3456 - val_acc: 0.6760\n",
            "Epoch 76/90\n",
            "6000/6000 [==============================] - 2s 371us/step - loss: 0.3810 - acc: 0.8723 - val_loss: 1.3151 - val_acc: 0.6620\n",
            "Epoch 77/90\n",
            "6000/6000 [==============================] - 2s 372us/step - loss: 0.4088 - acc: 0.8578 - val_loss: 1.2294 - val_acc: 0.6630\n",
            "Epoch 78/90\n",
            "6000/6000 [==============================] - 2s 373us/step - loss: 0.3813 - acc: 0.8707 - val_loss: 1.3909 - val_acc: 0.6830\n",
            "Epoch 79/90\n",
            "6000/6000 [==============================] - 2s 376us/step - loss: 0.3724 - acc: 0.8723 - val_loss: 1.3909 - val_acc: 0.6800\n",
            "Epoch 80/90\n",
            "6000/6000 [==============================] - 2s 374us/step - loss: 0.3946 - acc: 0.8667 - val_loss: 1.4042 - val_acc: 0.6890\n",
            "Epoch 81/90\n",
            "6000/6000 [==============================] - 2s 376us/step - loss: 0.3938 - acc: 0.8737 - val_loss: 1.3282 - val_acc: 0.6870\n",
            "Epoch 82/90\n",
            "6000/6000 [==============================] - 2s 376us/step - loss: 0.3523 - acc: 0.8760 - val_loss: 1.3530 - val_acc: 0.6560\n",
            "Epoch 83/90\n",
            "6000/6000 [==============================] - 2s 370us/step - loss: 0.3790 - acc: 0.8698 - val_loss: 1.2635 - val_acc: 0.6670\n",
            "Epoch 84/90\n",
            "6000/6000 [==============================] - 2s 368us/step - loss: 0.3673 - acc: 0.8732 - val_loss: 1.2963 - val_acc: 0.6730\n",
            "Epoch 85/90\n",
            "6000/6000 [==============================] - 2s 373us/step - loss: 0.3647 - acc: 0.8795 - val_loss: 1.3283 - val_acc: 0.6780\n",
            "Epoch 86/90\n",
            "6000/6000 [==============================] - 2s 372us/step - loss: 0.3410 - acc: 0.8778 - val_loss: 1.2511 - val_acc: 0.6840\n",
            "Epoch 87/90\n",
            "6000/6000 [==============================] - 2s 380us/step - loss: 0.3559 - acc: 0.8775 - val_loss: 1.3507 - val_acc: 0.6520\n",
            "Epoch 88/90\n",
            "6000/6000 [==============================] - 2s 371us/step - loss: 0.3448 - acc: 0.8853 - val_loss: 1.3501 - val_acc: 0.6790\n",
            "Epoch 89/90\n",
            "6000/6000 [==============================] - 2s 371us/step - loss: 0.3318 - acc: 0.8895 - val_loss: 1.3917 - val_acc: 0.6700\n",
            "Epoch 90/90\n",
            "6000/6000 [==============================] - 2s 377us/step - loss: 0.3295 - acc: 0.8868 - val_loss: 1.5370 - val_acc: 0.6770\n"
          ],
          "name": "stdout"
        }
      ]
    },
    {
      "cell_type": "code",
      "metadata": {
        "id": "IFuzjYQD7cyp",
        "colab_type": "code",
        "outputId": "3c17f514-9a61-4aea-d672-05bb9a9a05d1",
        "colab": {
          "base_uri": "https://localhost:8080/",
          "height": 782
        }
      },
      "source": [
        "plt.figure(figsize=(12,8))\n",
        "plt.plot(hist.history['acc'])\n",
        "plt.plot(hist.history['val_acc'])\n",
        "plt.legend(['acc','val_acc'])\n",
        "plt.show()\n",
        "\n",
        "plt.plot(hist.history['loss'])\n",
        "plt.plot(hist.history['val_loss'])\n",
        "plt.legend(['loss','val_loss'])\n",
        "plt.show()\n",
        "score = model.evaluate(X_test, Y_test)\n",
        "print('Test loss:', score[0])\n",
        "print('Test accuracy:', score[1])"
      ],
      "execution_count": 64,
      "outputs": [
        {
          "output_type": "display_data",
          "data": {
            "image/png": "[encoded data removed]",
            "text/plain": [
              "<Figure size 864x576 with 1 Axes>"
            ]
          },
          "metadata": {
            "tags": []
          }
        },
        {
          "output_type": "display_data",
          "data": {
            "image/png": "[encoded data removed]",
            "text/plain": [
              "<Figure size 432x288 with 1 Axes>"
            ]
          },
          "metadata": {
            "tags": []
          }
        },
        {
          "output_type": "stream",
          "text": [
            "1000/1000 [==============================] - 0s 173us/step\n",
            "Test loss: 1.4891575994491577\n",
            "Test accuracy: 0.68\n"
          ],
          "name": "stdout"
        }
      ]
    },
    {
      "cell_type": "code",
      "metadata": {
        "id": "pxobwBpa7cyr",
        "colab_type": "code",
        "colab": {}
      },
      "source": [
        ""
      ],
      "execution_count": 0,
      "outputs": []
    }
  ]
}